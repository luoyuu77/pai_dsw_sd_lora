{
 "cells": [
  {
   "cell_type": "markdown",
   "id": "f06bea55-7889-4576-a83b-d3b207729e3d",
   "metadata": {},
   "source": [
    "# **Stable Diffusion WebUI + LoRA-Scipts训练包**"
   ]
  },
  {
   "cell_type": "markdown",
   "id": "9fab4ab6-be4b-4206-ba12-8dad73bac833",
   "metadata": {},
   "source": [
    "基础环境：modelscope:1.13.3-pytorch2.1.2tensorflow2.14.0-gpu-py310-cu121-ubuntu22.04\n",
    "Python:3.10.12\n",
    "CUDA: 12.1\n",
    "Pytorch: 2.1.2+cu121\n",
    "显卡: NVIDIA A10\n"
   ]
  },
  {
   "cell_type": "markdown",
   "id": "7c5bd123",
   "metadata": {},
   "source": [
    "## 一、 初始环境"
   ]
  },
  {
   "cell_type": "code",
   "execution_count": null,
   "id": "6c128211",
   "metadata": {},
   "outputs": [],
   "source": [
    "#只需运行一次\n",
    "#查看是什么GPU\n",
    "!nvidia-smi\n",
    "#安装解压软件和下载存储工具\n",
    "!apt-get update  > /dev/null 2>&1 \n",
    "!apt-get install zip -y > /dev/null 2>&1\n",
    "!apt install -y aria2 > /dev/null 2>&1 && echo 全部成功"
   ]
  },
  {
   "cell_type": "code",
   "execution_count": null,
   "id": "403be680",
   "metadata": {},
   "outputs": [],
   "source": [
    "# 检查显卡\n",
    "import torch\n",
    "print('CUDA版本:',torch.version.cuda)\n",
    "print('Pytorch版本:',torch.__version__)\n",
    "print('显卡是否可用:','可用' if(torch.cuda.is_available()) else '不可用')\n",
    "print('显卡数量:',torch.cuda.device_count())\n",
    "print('是否支持BF16数字格式:','支持' if (torch.cuda.is_bf16_supported()) else '不支持不能训练sdxl')\n",
    "print('当前显卡型号:',torch.cuda.get_device_name())\n",
    "print('当前显卡的CUDA算力:',torch.cuda.get_device_capability())\n",
    "print('当前显卡的总显存:',torch.cuda.get_device_properties(0).total_memory/1024/1024/1024,'GB')\n",
    "print('是否支持TensorCore:','支持' if (torch.cuda.get_device_properties(0).major >= 7) else '不支持')\n",
    "print('当前显卡的显存使用率:',torch.cuda.memory_allocated(0)/torch.cuda.get_device_properties(0).total_memory*100,'%')"
   ]
  },
  {
   "cell_type": "code",
   "execution_count": null,
   "id": "a9882858",
   "metadata": {},
   "outputs": [],
   "source": [
    "# 查看剩余内存空间\n",
    "import subprocess\n",
    "# 执行命令并解析输出\n",
    "command = \"df -h /mnt/workspace\"\n",
    "result = subprocess.check_output(command, shell=True, text=True)\n",
    "data = result.split('\\n')[1].split()\n",
    "# 提取空间信息\n",
    "文件系统, 总共, 已使用, 剩余 = data[0], data[1], data[2], float(data[3][:-1])\n",
    "# 定义ANSI转义码\n",
    "BOLD, RED, RESET = \"\\033[1m\", \"\\033[31m\", \"\\033[0m\"\n",
    "# 输出信息\n",
    "print(f\"{BOLD}文件系统: {文件系统}{RESET}\")\n",
    "print(f\"{BOLD}总共空间: {总共}{RESET}\")\n",
    "print(f\"{BOLD}已使用空间: {已使用}{RESET}\")\n",
    "# 检查剩余空间并输出相应信息\n",
    "if 剩余 < 20:\n",
    "    print(f\"{BOLD}{RED}磁盘空间不足20GB，请及时处理！{RESET}\")\n",
    "else:\n",
    "    print(f\"磁盘空间充足，剩余空间为 {剩余} GB\")"
   ]
  },
  {
   "cell_type": "markdown",
   "id": "39df08ff-45e4-4a86-add4-a5af9cc7f7d6",
   "metadata": {},
   "source": [
    "## 二、安装webui"
   ]
  },
  {
   "cell_type": "markdown",
   "id": "2fa5642d",
   "metadata": {},
   "source": [
    "阿里云 DSW 一键脚本v5 By [bilibili@秋葉aaaki](https://space.bilibili.com/12566101)\n",
    "\n",
    "#### 更新日志\n",
    "\n",
    "2023-6-11\n",
    "\n",
    "- 修复了无法下载模型、无法启动的问题\n",
    "\n",
    "2023-5-2\n",
    "\n",
    "- 添加了插件，修改了插件安装方式\n",
    "- 升级 torch 版本\n",
    "- 更新了汉化\n",
    "- 添加了部分插件（LoRA）\n",
    "- 添加了下载文件用的代码\n",
    "\n",
    "2023-5-3\n",
    "\n",
    "- 疑似 torch2 会导致黑图，已取消"
   ]
  },
  {
   "cell_type": "markdown",
   "id": "d7570ff9",
   "metadata": {},
   "source": [
    "#### 1. 拉取本体"
   ]
  },
  {
   "cell_type": "code",
   "execution_count": null,
   "id": "567fe4a3-a897-48b6-bde2-0afb3d064c80",
   "metadata": {
    "tags": []
   },
   "outputs": [],
   "source": [
    "# 拉取webui本体\n",
    "!rm -rf /mnt/workspace/stable-diffusion-webui/\n",
    "%cd  /mnt/workspace/\n",
    "!git clone https://gitcode.net/overbill1683/stable-diffusion-webui\n",
    "%cd stable-diffusion-webui\n",
    "!mkdir repositories\n",
    "%cd repositories\n",
    "!git clone \"https://gitcode.net/overbill1683/stablediffusion\" \"stable-diffusion-stability-ai\"\n",
    "!git clone \"https://gitcode.net/overbill1683/taming-transformers\" \"taming-transformers\"\n",
    "!git clone \"https://gitcode.net/overbill1683/k-diffusion\" \"k-diffusion\"\n",
    "!git clone \"https://gitcode.net/overbill1683/CodeFormer\" \"CodeFormer\"\n",
    "!git clone \"https://gitcode.net/overbill1683/BLIP\" \"BLIP\"\n",
    "\n",
    "%cd /mnt/workspace/stable-diffusion-webui\n",
    "!wget -O \"config.json\" \"https://gitcode.net/Akegarasu/sd-webui-configs/-/raw/master/config.json\""
   ]
  },
  {
   "cell_type": "markdown",
   "id": "8a8a92a6",
   "metadata": {},
   "source": [
    "#### 2. 安装插件"
   ]
  },
  {
   "cell_type": "code",
   "execution_count": null,
   "id": "29c0c31d-ea47-4056-9ace-ff044cc42cbd",
   "metadata": {
    "tags": []
   },
   "outputs": [],
   "source": [
    "## 安装常用插件，填写github链接，一行一个\n",
    "extension_urls = \"\"\"\n",
    "https://gitcode.net/ranting8323/a1111-sd-webui-tagcomplete\n",
    "https://gitcode.net/overbill1683/stable-diffusion-webui-localization-zh_Hans\n",
    "https://gitcode.net/ranting8323/sd-webui-additional-networks\n",
    "https://gitcode.net/ranting8323/sd-webui-infinite-image-browsing\n",
    "https://gitcode.net/ranting8323/stable-diffusion-webui-wd14-tagger\n",
    "\"\"\"\n",
    "\n",
    "extensions = extension_urls.strip().split(\"\\n\")\n",
    "\n",
    "%cd /mnt/workspace/stable-diffusion-webui\n",
    "for e in extensions:\n",
    "    !git -C \"extensions\" clone {e}"
   ]
  },
  {
   "cell_type": "markdown",
   "id": "ced6371a-1cff-4dbf-9400-459ebb588df2",
   "metadata": {},
   "source": [
    "#### 3. 下载模型"
   ]
  },
  {
   "cell_type": "code",
   "execution_count": null,
   "id": "8c290ca4-0880-41e1-b1c5-58fd9a755bb7",
   "metadata": {
    "tags": []
   },
   "outputs": [],
   "source": [
    "#直链下载\n",
    "def aria2(url, filename, d):\n",
    "    !aria2c --console-log-level=error -c -x 16 -s 16 {url} -o {filename} -d {d}\n",
    "\n",
    "model_url = '\"https://liblibai-online.vibrou.com/models/e7e55f800035004cf0ee31d91f874a415a2b64a4.safetensors?attname=%E7%9C%9F%E5%AE%9E%E6%84%9F%E5%BF%85%E5%A4%87%E6%A8%A1%E5%9E%8B%EF%BD%9CChilloutMix_Chilloutmix-Ni-pruned-fp32-fix.safetensors\"'\n",
    "aria2(model_url, \"chilloutmix_NiPrunedFp32Fix.safetensors\", \"/mnt/workspace/stable-diffusion-webui/models/Stable-diffusion\")"
   ]
  },
  {
   "cell_type": "code",
   "execution_count": null,
   "id": "fd2635d7",
   "metadata": {},
   "outputs": [],
   "source": [
    "#复制oss内的模型\n",
    "原始名称 = \"models/chilloutmix_Ni.safetensors\" #可包含父路径，最前不用加/\n",
    "标准名称=\"model.safetensors\" #双引号内填模型命名及后缀\n",
    "!cp /mnt/data/\"{原始名称}\" /mnt/workspace/lora-scripts/sd-models/\"{标准名称}\" && echo 复制成功"
   ]
  },
  {
   "cell_type": "markdown",
   "id": "d90eabd2-39cb-445d-b1b1-6e2740938948",
   "metadata": {},
   "source": [
    "#### 4. 下载 VAE"
   ]
  },
  {
   "cell_type": "code",
   "execution_count": null,
   "id": "9936de5b-3f98-41ab-9af2-5691f60c4764",
   "metadata": {
    "tags": []
   },
   "outputs": [],
   "source": [
    "VAE_URL = '\"https://modelscope.cn/api/v1/models/dienstag/anything-v4.0/repo?Revision=master&FilePath=anything-v4.0.vae.pt\"'\n",
    "aria2(VAE_URL, \"animevae.pt\", \"/mnt/workspace/stable-diffusion-webui/models/VAE\")"
   ]
  },
  {
   "cell_type": "markdown",
   "id": "383abdf0",
   "metadata": {},
   "source": [
    "#### 5. 下载文件（样例）"
   ]
  },
  {
   "cell_type": "code",
   "execution_count": null,
   "id": "e1dd7015",
   "metadata": {},
   "outputs": [],
   "source": [
    "# 这部分是可选的！！！！！有需要再执行！！！！！！！ 修改对应文本，运行即可下载文件\n",
    "def aria2(url, filename, d):\n",
    "    !aria2c --console-log-level=error -c -x 16 -s 16 {url} -o {filename} -d {d}\n",
    "\n",
    "DOWNLOAD_URL = \"文件链接\" # 文件链接，需要下载的url直链才可以\n",
    "FILE_NAME = \"aki\" # 下载保存的文件名\n",
    "SAVE_DIR = \"/mnt/workspace\" # 文件保存的路径\n",
    "aria2(DOWNLOAD_URL, FILE_NAME, SAVE_DIR)"
   ]
  },
  {
   "cell_type": "markdown",
   "id": "4216de2a",
   "metadata": {},
   "source": [
    "## 三、 安装Lora-Scipts"
   ]
  },
  {
   "cell_type": "markdown",
   "id": "7522ab51",
   "metadata": {},
   "source": [
    "最核心的文件的整合代码均由主要作者[秋葉aaaki](https://github.com/Akegarasu/lora-scripts)完成。\n",
    "开始前**建议阅读**：\n",
    "1.   [保姆式LoRA模型一键包文件](https://www.bilibili.com/video/BV1AL411q7Ub/?spm_id_from=333.337.search-card.all.click&vd_source=e6294619bd5137ea0025a3d001e715a7)\n",
    "2.   [参数心得](https://www.bilibili.com/video/BV1GM411E7vk/)\n",
    "3.   [训练教程](https://www.bilibili.com/video/BV1fs4y1x7p2/?spm_id_from=333.999.0.0)\n",
    "4.   [阿里云部署教程](https://www.bilibili.com/video/BV1fs4y1x7p2/?spm_id_from=333.999.0.0)\n",
    ">\n",
    "本人只是完成阿里云下的依赖安装，使用的下载源不保证长期有效。\n",
    "\n",
    "训练包版本为2023年10月份1.7.0秋叶最新版\n",
    "\n",
    "以后要更新脚本直接重新执行一遍本脚本的训练包拉取，和基础依赖安装和即可更新脚本，无需更换脚本。\n",
    "\n",
    "更新内容：使用了秋叶最新的训练包，优化了下载链接的样式，更新了大模型训练，已知著名的所有训练算法已安装。"
   ]
  },
  {
   "cell_type": "markdown",
   "id": "702fdf79",
   "metadata": {},
   "source": [
    "#### 1. 拉取本体"
   ]
  },
  {
   "cell_type": "code",
   "execution_count": null,
   "id": "c0de4a97",
   "metadata": {},
   "outputs": [],
   "source": [
    "!rm -rf /mnt/workspace/lora-scripts/\n",
    "%cd  /mnt/workspace/\n",
    "#!git clone  https://gitee.com/taichuzhishi/lora-scripts.git #烈风包\n",
    "!git clone  https://github.com/Akegarasu/lora-scripts.git #秋叶包\n",
    "#!cd /mnt/workspace/lora-scripts/huggingface/ && wget -c https://liblibai-online.vibrou.com/web/model/c52a9848ee316e16b59a0fe17e17edc4c767f97f652b439d9da758d6077160ae.ckpt  -O 1.zip\n",
    "#!unzip /mnt/workspace/lora-scripts/huggingface/1.zip -d /mnt/workspace/lora-scripts/huggingface/ > /dev/null 2>&1 && echo 解压成功\n",
    "#!rm -r /mnt/workspace/lora-scripts/huggingface/1.zip   > /dev/null 2>&1  && echo 删除压缩包成功\n",
    "!mkdir -p /mnt/workspace/lora-scripts/train/aki\n",
    "!mkdir -p /mnt/workspace/lora-scripts/train/reg\n",
    "!echo 训练包拉取成功"
   ]
  },
  {
   "cell_type": "markdown",
   "id": "51f4fb37",
   "metadata": {},
   "source": [
    "#### 2. 安装依赖"
   ]
  },
  {
   "cell_type": "code",
   "execution_count": null,
   "id": "0fc8a97a",
   "metadata": {},
   "outputs": [],
   "source": [
    "#这里添加下载自改脚本\n",
    "%cd  /mnt/workspace/lora-scripts/\n",
    "#!wget -c https://github.com/luoyuu77/pai_dsw_sd_lora/blob/main/lora-scripts/install.bash\n",
    "!bash install.bash"
   ]
  },
  {
   "cell_type": "markdown",
   "id": "e4bff16e-1f2d-4324-b1b8-78758b107eed",
   "metadata": {},
   "source": [
    "## 四、 启动WebUI"
   ]
  },
  {
   "cell_type": "code",
   "execution_count": null,
   "id": "edb12c51-eacb-4086-857e-e2eac64ac94f",
   "metadata": {
    "tags": []
   },
   "outputs": [],
   "source": [
    "import os\n",
    "package_envs  = [\n",
    "      {\n",
    "        \"env\": \"GFPGAN_PACKAGE\",\n",
    "        \"url\": \"git+https://gitcode.net/overbill1683/GFPGAN.git@8d2447a2d918f8eba5a4a01463fd48e45126a379\"\n",
    "      },\n",
    "      {\n",
    "        \"env\": \"CLIP_PACKAGE\",\n",
    "        \"url\": \"git+https://gitcode.net/overbill1683/CLIP.git@d50d76daa670286dd6cacf3bcd80b5e4823fc8e1\"\n",
    "      },\n",
    "      {\n",
    "        \"env\": \"OPENCLIP_PACKAGE\",\n",
    "        \"url\": \"git+https://gitcode.net/overbill1683/open_clip.git@bb6e834e9c70d9c27d0dc3ecedeebeaeb1ffad6b\"\n",
    "      }\n",
    "]\n",
    "os.environ[\"PIP_INDEX_URL\"] = \"https://mirror.baidu.com/pypi/simple\"\n",
    "for i in package_envs:\n",
    "    os.environ[i[\"env\"]] = i[\"url\"]\n",
    "\n",
    "%cd /mnt/workspace/stable-diffusion-webui\n",
    "!python launch.py --no-download-sd-model --xformers --share --listen --enable-insecure-extension-access"
   ]
  },
  {
   "cell_type": "markdown",
   "id": "a42f66e1",
   "metadata": {},
   "source": [
    "## 五、 启动Lora"
   ]
  },
  {
   "cell_type": "code",
   "execution_count": null,
   "id": "4266dfe2",
   "metadata": {},
   "outputs": [],
   "source": [
    "%cd /mnt/workspace/lora-scripts    \n",
    "#跳转到UI文件\n",
    "!bash run_gui.sh #界面文件点击127.0。0.0.1即可进入ui"
   ]
  }
 ],
 "metadata": {
  "kernelspec": {
   "display_name": "Python 3 (ipykernel)",
   "language": "python",
   "name": "python3"
  },
  "language_info": {
   "codemirror_mode": {
    "name": "ipython",
    "version": 3
   },
   "file_extension": ".py",
   "mimetype": "text/x-python",
   "name": "python",
   "nbconvert_exporter": "python",
   "pygments_lexer": "ipython3",
   "version": "3.10.6"
  }
 },
 "nbformat": 4,
 "nbformat_minor": 5
}
