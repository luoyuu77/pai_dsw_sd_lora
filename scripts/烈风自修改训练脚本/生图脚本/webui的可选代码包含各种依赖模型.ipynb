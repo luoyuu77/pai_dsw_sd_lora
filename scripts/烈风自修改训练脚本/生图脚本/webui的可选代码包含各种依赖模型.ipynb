{
 "cells": [
  {
   "cell_type": "markdown",
   "id": "6a5427db-fddc-4dd1-8ae8-eff476ad222f",
   "metadata": {},
   "source": [
    "# 依赖安装（安装是必须的）所有代码务必放在/mnt/worpspace/下执行不要移动到其他文件夹不然容易在创建时出错"
   ]
  },
  {
   "cell_type": "code",
   "execution_count": null,
   "id": "baab3bbb-401f-4e68-8f9d-6bb1927cf269",
   "metadata": {},
   "outputs": [],
   "source": [
    "#安装解压软件和下载存储工具\n",
    "!apt-get update  > /dev/null 2>&1 \n",
    "!apt-get install zip -y > /dev/null 2>&1\n",
    "!apt install -y aria2 > /dev/null 2>&1"
   ]
  },
  {
   "cell_type": "markdown",
   "id": "61ef26fc-d6c7-416c-bd95-1034686f3e68",
   "metadata": {},
   "source": [
    "# 可选代码"
   ]
  },
  {
   "cell_type": "markdown",
   "id": "68b1ebf4-a454-4663-80ee-a20d1067b3d8",
   "metadata": {},
   "source": [
    "## 一、可选代码之插件安装（包含常见插件，但是由于抱脸被墙，作者不更新，等原因一些插件无法使用，自行选择）"
   ]
  },
  {
   "cell_type": "code",
   "execution_count": null,
   "id": "c81553fd-46a3-4e8e-a2b5-eb843ef68f8b",
   "metadata": {},
   "outputs": [],
   "source": [
    "## 安装常用插件\n",
    "extensions = [\n",
    "\"https://gitcode.net/ranting8323/openpose-editor\",\n",
    "\"https://gitcode.net/ranting8323/Stable-Diffusion-Webui-Civitai-Helper\",\n",
    "\"https://gitcode.net/ranting8323/stable-diffusion-webui-two-shot\",\n",
    "\"https://gitcode.net/ranting8323/ebsynth_utility\",\n",
    "]\n",
    "%cd /mnt/workspace/stable-diffusion-webui\n",
    "\n",
    "for e in extensions:\n",
    "    proxied_url =  e\n",
    "    !git -C \"extensions\" clone {proxied_url}"
   ]
  },
  {
   "cell_type": "code",
   "execution_count": null,
   "id": "10070989-5808-441d-9b4f-d76caade33db",
   "metadata": {},
   "outputs": [],
   "source": [
    "## 安装常用插件\n",
    "extensions = [\n",
    "    \"https://github.com/OedoSoldier/sd-webui-image-sequence-toolkit\",\n",
    "    \"https://github.com/continue-revolution/sd-webui-animatediff\",\n",
    "    \"https://github.com/antfu/sd-webui-qrcode-toolkit\",\n",
    "    \"https://github.com/Akegarasu/sd-webui-video-frames\",\n",
    "    \"https://github.com/huchenlei/sd-webui-openpose-editor\",\n",
    "    \"https://github.com/bbc-mc/sdweb-merge-block-weighted-gui\",\n",
    "    \"https://github.com/pkuliyi2015/sd-webui-stablesr\",\n",
    "    \"https://github.com/hnmr293/sd-webui-cutoff\",\n",
    "    \"https://github.com/sd-fabric/fabric\",\n",
    "    \"https://github.com/LonicaMewinsky/gif2gif\",\n",
    "    \"https://github.com/CiaraStrawberry/TemporalKit\",\n",
    "]\n",
    "%cd /mnt/workspace/stable-diffusion-webui\n",
    "\n",
    "for e in extensions:\n",
    "    proxied_url = \"https://github.moeyy.xyz/\" + e\n",
    "    !git -C \"extensions\" clone {proxied_url}"
   ]
  },
  {
   "cell_type": "markdown",
   "id": "221bfe54-184a-48b0-8aca-a9fbff03e134",
   "metadata": {},
   "source": [
    "## 插件sd-webui-animatediff的模型依赖下载"
   ]
  },
  {
   "cell_type": "code",
   "execution_count": null,
   "id": "3d49207f-762e-4430-9cea-8e68ee7e6b31",
   "metadata": {},
   "outputs": [],
   "source": [
    "!mkdir -p  /mnt/workspace/stable-diffusion-webui/models/animatediff\n",
    "%cd /mnt/workspace/stable-diffusion-webui/models/animatediff\n",
    "!aria2c -c https://huggingface.sukaka.top/guoyww/animatediff/resolve/main/mm_sd_v15_v2.ckpt"
   ]
  },
  {
   "cell_type": "markdown",
   "id": "6b3b64d7-cce5-4a91-9924-ecc20eca71d4",
   "metadata": {},
   "source": [
    "### ROOP插件（使用时请遵守国内法律法规）"
   ]
  },
  {
   "cell_type": "code",
   "execution_count": null,
   "id": "0381147d-2885-48c1-801b-d22aa95e25ca",
   "metadata": {},
   "outputs": [],
   "source": [
    "!pip install insightface==0.7.3\n",
    "!pip uninstall -y protobuf\n",
    "!pip install protobuf"
   ]
  },
  {
   "cell_type": "code",
   "execution_count": null,
   "id": "fdffdb4f-4cd9-4cd1-b2b6-10876c672526",
   "metadata": {},
   "outputs": [],
   "source": [
    "%cd /mnt/workspace/\n",
    "!aria2c -c  https://liblibai-online.vibrou.com/web/model/d3b454741d7e6deba53023adf51a91afc07f257da9fe4f3ca61d3d54d1d639a5.zip  -o roop.zip\n",
    "!unzip /mnt/workspace/roop.zip -d /mnt/workspace/ > /dev/null 2>&1 && echo 解压成功\n",
    "!sudo rm -r /mnt/workspace/roop.zip   > /dev/null 2>&1  && echo 删除压缩包成功\n",
    "!mkdir -p /root/.ifnude/\n",
    "!mkdir -p /root/.insightface/models/\n",
    "!mkdir -p /mnt/workspace/stable-diffusion-webui/models/roop/\n",
    "!mkdir -p /mnt/workspace/stable-diffusion-webui/repositories/CodeFormer/weights/facelib/\n",
    "!mv /mnt/workspace/roop_v1.0/ifnude/* /root/.ifnude/\n",
    "!mv /mnt/workspace/roop_v1.0/insightface/* /root/.insightface/models/\n",
    "!mv /mnt/workspace/roop_v1.0/inswapper_128.onnx /mnt/workspace/stable-diffusion-webui/models/roop/\n",
    "%cd  /mnt/workspace/stable-diffusion-webui/repositories/CodeFormer/weights/facelib/\n",
    "!aria2c -c  https://github.moeyy.xyz/https://github.com/xinntao/facexlib/releases/download/v0.1.0/detection_Resnet50_Final.pth \n",
    "!aria2c -c  https://github.moeyy.xyz/https://github.com/sczhou/CodeFormer/releases/download/v0.1.0/parsing_parsenet.pth\n",
    "%cd  /mnt/workspace/stable-diffusion-webui/models/Codeformer/\n",
    "!aria2c -c   https://github.moeyy.xyz/https://github.com/sczhou/CodeFormer/releases/download/v0.1.0/codeformer.pth   -o codeformer-v0.1.0.pth\n",
    "!mkdir -p  /mnt/workspace/stable-diffusion-webui/models/GFPGAN/\n",
    "%cd  /mnt/workspace/stable-diffusion-webui/models/GFPGAN/\n",
    "!aria2c -c  https://github.moeyy.xyz/https://github.com/xinntao/facexlib/releases/download/v0.1.0/detection_Resnet50_Final.pth \n",
    "!aria2c -c  https://github.moeyy.xyz/https://github.com/sczhou/CodeFormer/releases/download/v0.1.0/parsing_parsenet.pth\n",
    "!aria2c -c  https://github.moeyy.xyz/https://github.com/TencentARC/GFPGAN/releases/download/v1.3.0/GFPGANv1.4.pth \n",
    "extensions = [\n",
    "    \"https://github.com/s0md3v/sd-webui-roop\",\n",
    "]\n",
    "\n",
    "%cd /mnt/workspace/stable-diffusion-webui\n",
    "\n",
    "for e in extensions:\n",
    "    proxied_url = \"https://github.moeyy.xyz/\" + e\n",
    "    !git -C \"extensions\" clone {proxied_url}"
   ]
  },
  {
   "cell_type": "markdown",
   "id": "f3d6df71-2d3a-42e3-87b4-a9aa40c5e9f1",
   "metadata": {
    "tags": []
   },
   "source": [
    "## wd1.4解决方案（执行完后模型需单独在下方代码块下载）"
   ]
  },
  {
   "cell_type": "code",
   "execution_count": null,
   "id": "45818b3d-7197-44df-b629-dae0d2ffd27b",
   "metadata": {
    "tags": []
   },
   "outputs": [],
   "source": [
    "## 安装常用插件\n",
    "extensions = [\n",
    "    \"https://github.com/picobyte/stable-diffusion-webui-wd14-tagger.git\",\n",
    "]\n",
    "\n",
    "%cd /mnt/workspace/stable-diffusion-webui\n",
    "for e in extensions:\n",
    "    proxied_url = \"https://github.moeyy.xyz/\"+e\n",
    "    !git -C \"extensions\" clone {proxied_url}\n",
    "\n",
    "    \n",
    "file_path = '/mnt/workspace/stable-diffusion-webui/extensions/stable-diffusion-webui-wd14-tagger/tagger/interrogator.py'\n",
    "\n",
    "# 读取文件内容\n",
    "with open(file_path, 'r') as file:\n",
    "    content = file.read()\n",
    "\n",
    "# 查找并替换\n",
    "content = content.replace('is_hf=True', 'is_hf=False')\n",
    "\n",
    "# 写入修改后的内容\n",
    "with open(file_path, 'w') as file:\n",
    "    file.write(content)\n"
   ]
  },
  {
   "cell_type": "markdown",
   "id": "181e8f57-8c74-43c1-93f4-8784958b6eeb",
   "metadata": {},
   "source": [
    "###  wd14-vit.v1 "
   ]
  },
  {
   "cell_type": "code",
   "execution_count": 5,
   "id": "cd41e603-e882-4cc7-9b46-f7054e38d7fd",
   "metadata": {
    "ExecutionIndicator": {
     "show": false
    },
    "execution": {
     "iopub.execute_input": "2023-11-17T12:09:54.385953Z",
     "iopub.status.busy": "2023-11-17T12:09:54.385636Z",
     "iopub.status.idle": "2023-11-17T12:09:56.255674Z",
     "shell.execute_reply": "2023-11-17T12:09:56.255089Z",
     "shell.execute_reply.started": "2023-11-17T12:09:54.385934Z"
    },
    "tags": []
   },
   "outputs": [],
   "source": [
    "!mkdir -p   /mnt/workspace/stable-diffusion-webui/models/TaggerOnnx/wd14-vit.v1 \n",
    "%cd /mnt/workspace/stable-diffusion-webui/models/TaggerOnnx/wd14-vit.v1 \n",
    "!aria2c -c https://huggingface.sukaka.top/SmilingWolf/wd-v1-4-vit-tagger/resolve/main/model.onnx\n",
    "!aria2c -c https://huggingface.sukaka.top/SmilingWolf/wd-v1-4-vit-tagger/resolve/main/selected_tags.csv"
   ]
  },
  {
   "cell_type": "markdown",
   "id": "99b4c22d-a1e0-47a2-aed3-8ac396fb7504",
   "metadata": {},
   "source": [
    "### wd14-vit.v2"
   ]
  },
  {
   "cell_type": "code",
   "execution_count": null,
   "id": "164a176e-c8af-4e46-9c88-93ed41826f94",
   "metadata": {},
   "outputs": [],
   "source": [
    "!mkdir -p   /mnt/workspace/stable-diffusion-webui/models/TaggerOnnx/wd14-vit.v2\n",
    "%cd /mnt/workspace/stable-diffusion-webui/models/TaggerOnnx/wd14-vit.v2\n",
    "!aria2c -c https://huggingface.sukaka.top/SmilingWolf/wd-v1-4-vit-tagger-v2/resolve/main/model.onnx\n",
    "!aria2c -c https://huggingface.sukaka.top/SmilingWolf/wd-v1-4-vit-tagger-v2/resolve/main/selected_tags.csv"
   ]
  },
  {
   "cell_type": "markdown",
   "id": "d5465216-65ce-4d9a-8e56-16577985b32b",
   "metadata": {},
   "source": [
    "### wd14-convnext.v1"
   ]
  },
  {
   "cell_type": "code",
   "execution_count": null,
   "id": "e30873a5-9d9c-42dc-b982-a5e20275f14c",
   "metadata": {},
   "outputs": [],
   "source": [
    "!mkdir -p   /mnt/workspace/stable-diffusion-webui/models/TaggerOnnx/wd14-convnext.v1\n",
    "%cd /mnt/workspace/stable-diffusion-webui/models/TaggerOnnx/wd14-convnext.v1\n",
    "!aria2c -c https://huggingface.sukaka.top/SmilingWolf/wd-v1-4-convnext-tagger/resolve/main/model.onnx\n",
    "!aria2c -c https://huggingface.sukaka.top/SmilingWolf/wd-v1-4-convnext-tagger/resolve/main/selected_tags.csv"
   ]
  },
  {
   "cell_type": "markdown",
   "id": "cc2b3220-2c02-4bc3-91d0-e09995fa285e",
   "metadata": {},
   "source": [
    "### wd14-convnext.v2"
   ]
  },
  {
   "cell_type": "code",
   "execution_count": null,
   "id": "33ddb75f-256e-425b-ac3f-97d0e14d8695",
   "metadata": {},
   "outputs": [],
   "source": [
    "!mkdir -p   /mnt/workspace/stable-diffusion-webui/models/TaggerOnnx/wd14-convnext.v2\n",
    "%cd /mnt/workspace/stable-diffusion-webui/models/TaggerOnnx/wd14-convnext.v2\n",
    "!aria2c -c https://huggingface.sukaka.top/SmilingWolf/wd-v1-4-convnext-tagger-v2/resolve/main/model.onnx\n",
    "!aria2c -c https://huggingface.sukaka.top/SmilingWolf/wd-v1-4-convnext-tagger-v2/resolve/main/selected_tags.csv"
   ]
  },
  {
   "cell_type": "markdown",
   "id": "172d10e4-ff63-44ce-9770-87563759a632",
   "metadata": {},
   "source": [
    "### wd14-convnextv2.v1"
   ]
  },
  {
   "cell_type": "code",
   "execution_count": null,
   "id": "553dcba0-cc71-42cc-b144-aef210339813",
   "metadata": {},
   "outputs": [],
   "source": [
    "!mkdir -p   /mnt/workspace/stable-diffusion-webui/models/TaggerOnnx/wd14-convnextv2.v1\n",
    "%cd /mnt/workspace/stable-diffusion-webui/models/TaggerOnnx/wd14-convnextv2.v1\n",
    "!aria2c -c https://huggingface.sukaka.top/SmilingWolf/wd-v1-4-convnextv2-tagger-v2/resolve/main/model.onnx\n",
    "!aria2c -c https://huggingface.sukaka.top/SmilingWolf/wd-v1-4-convnextv2-tagger-v2/resolve/main/selected_tags.csv"
   ]
  },
  {
   "cell_type": "markdown",
   "id": "3be1ac7b-69ac-4e64-a265-d10f4335dd92",
   "metadata": {},
   "source": [
    "### wd14-swinv2-v1"
   ]
  },
  {
   "cell_type": "code",
   "execution_count": null,
   "id": "f2cf13cb-aaed-4157-8f64-54abb3871b05",
   "metadata": {},
   "outputs": [],
   "source": [
    "!mkdir -p   /mnt/workspace/stable-diffusion-webui/models/TaggerOnnx/wd14-swinv2-v1\n",
    "%cd /mnt/workspace/stable-diffusion-webui/models/TaggerOnnx/wd14-swinv2-v1\n",
    "!aria2c -c https://huggingface.sukaka.top/SmilingWolf/wd-v1-4-swinv2-tagger-v2/resolve/main/model.onnx\n",
    "!aria2c -c https://huggingface.sukaka.top/SmilingWolf/wd-v1-4-swinv2-tagger-v2/resolve/main/selected_tags.csv"
   ]
  },
  {
   "cell_type": "markdown",
   "id": "a63fc8ea-8c86-49ba-9888-4a3e344b9744",
   "metadata": {},
   "source": [
    "### wd-v1-4-moat-tagger.v2"
   ]
  },
  {
   "cell_type": "code",
   "execution_count": null,
   "id": "e1cc2fbb-f179-4eab-8466-b1d4f2836cbc",
   "metadata": {},
   "outputs": [],
   "source": [
    "!mkdir -p   /mnt/workspace/stable-diffusion-webui/models/TaggerOnnx/wd-v1-4-moat-tagger.v2\n",
    "%cd /mnt/workspace/stable-diffusion-webui/models/TaggerOnnx/wd-v1-4-moat-tagger.v2\n",
    "!aria2c -c https://huggingface.sukaka.top/SmilingWolf/wd-v1-4-moat-tagger-v2/resolve/main/model.onnx\n",
    "!aria2c -c https://huggingface.sukaka.top/SmilingWolf/wd-v1-4-moat-tagger-v2/resolve/main/selected_tags.csv"
   ]
  },
  {
   "cell_type": "markdown",
   "id": "360ea018-7b42-4a52-905a-f8118cf20dae",
   "metadata": {},
   "source": [
    "### mld-caformer.dec-5-97527"
   ]
  },
  {
   "cell_type": "code",
   "execution_count": null,
   "id": "2bd63c10-1710-40c2-ac83-9416f9e88a7e",
   "metadata": {},
   "outputs": [],
   "source": [
    "!mkdir -p   /mnt/workspace/stable-diffusion-webui/models/TaggerOnnx/mld-caformer.dec-5-97527\n",
    "%cd /mnt/workspace/stable-diffusion-webui/models/TaggerOnnx/mld-caformer.dec-5-97527\n",
    "!aria2c -c https://huggingface.sukaka.top/deepghs/ml-danbooru-onnx/blob/main/ml_caformer_m36_dec-5-97527.onnx"
   ]
  },
  {
   "cell_type": "markdown",
   "id": "f863bd46-ac9d-4d1d-a0ee-8fb0bd6a242e",
   "metadata": {
    "ExecutionIndicator": {
     "show": false
    },
    "execution": {
     "iopub.execute_input": "2023-11-17T12:46:27.755729Z",
     "iopub.status.busy": "2023-11-17T12:46:27.755397Z",
     "iopub.status.idle": "2023-11-17T12:46:27.758958Z",
     "shell.execute_reply": "2023-11-17T12:46:27.758355Z",
     "shell.execute_reply.started": "2023-11-17T12:46:27.755709Z"
    },
    "tags": []
   },
   "source": [
    "### mld-tresnetd.6-30000"
   ]
  },
  {
   "cell_type": "code",
   "execution_count": null,
   "id": "0a06ba44-1369-4ad5-b391-ff28cdf309f7",
   "metadata": {},
   "outputs": [],
   "source": [
    "!mkdir -p   /mnt/workspace/stable-diffusion-webui/models/TaggerOnnx/mld-tresnetd.6-30000\n",
    "%cd /mnt/workspace/stable-diffusion-webui/models/TaggerOnnx/mld-tresnetd.6-30000\n",
    "!aria2c -c https://huggingface.sukaka.top/deepghs/ml-danbooru-onnx/blob/main/TResnet-D-FLq_ema_6-30000.onnx"
   ]
  },
  {
   "cell_type": "markdown",
   "id": "fec04bfa-af73-471a-96db-947724e8dde0",
   "metadata": {
    "tags": []
   },
   "source": [
    "## 二、可选代码之模型下载"
   ]
  },
  {
   "cell_type": "markdown",
   "id": "45d172e2-5a29-4f02-99d8-d4cd00016871",
   "metadata": {},
   "source": [
    "### 可选代码之lora模型下载（括号内第一个双引号内放链接，第二个双引号放模型名字加后缀，使用时可自行增删改查）"
   ]
  },
  {
   "cell_type": "code",
   "execution_count": null,
   "id": "8c7aa07e-a21d-44ca-bc10-e2198514996c",
   "metadata": {
    "ExecutionIndicator": {
     "show": true
    },
    "tags": []
   },
   "outputs": [],
   "source": [
    "extensions = [\n",
    "    (\"https://liblibai-online.vibrou.com/web/model/f2f9cd20525353e3b15559271dd8da7303abb870f27b08e245ef0898662f9710.safetensors\", \"CuteUkiyo-e中秋特别版.safetensors\"),\n",
    "    (\"https://liblibai-online.vibrou.com/web/model/0cba6dc48d0d4a67c37958c72ab88fa0f7c5c818ad7e76854c8aeb7e521cce2f.safetensors\", \"CuteUkiyo-e中秋海报.safetensors\"),\n",
    "    (\"https://liblibai-online.vibrou.com/web/model/98f422d1eabce7509bdf3553f2d0387a0cea51a1dfc6ee37530aab8545e58a81.safetensors\", \"Cute_Mech_style可爱机甲风_v1.0.safetensors\"),\n",
    "    (\"https://liblibai-online.vibrou.com/models/d77cdaf3ade5f67a82dcfe6c51a90114c0a7b47f18441943c4f242bb850ed640.safetensors\", \"立绘大师劳拉.safetensors\"),\n",
    "    (\"https://liblibai-online.vibrou.com/train/models/d1eb7b8c4a7844f7a03be08159725b51/20230923-1695403544192-0010.safetensors\", \"淡雅Q版古风表情包.safetensors\"),\n",
    "    (\"https://liblibai-online.vibrou.com/web/model/0d5bdd6cb59a7d651a35409e1f5538037ab0f977edab18c25a5c1a66e5d7dd25.safetensors\", \"Q版表情包风格lora圆鼓鼓的脸.safetensors\"),\n",
    "    (\"https://liblibai-online.vibrou.com/web/model/6b40c9371edc3cbe6b1944dc1af4216cfc7bb7e1dab42c0bca9dc8acc8aeb00d.safetensors\", \"q版小漫画.safetensors\"),\n",
    "    (\"https://liblibai-online.vibrou.com/web/model/616acd321d422608ed7558d0ed08425c3449bee74bb53e4ad18b2cbac4cebe1e.safetensors\", \"Q版角色niji风格卡哇伊.safetensors\"),\n",
    "    (\"https://liblibai-online.vibrou.com/web/model/3f7391d137fdbcde75f62fb80582ade3ae50bbc6de171b46209a38dfbff2f4f2.safetensors\", \"白虎.safetensors\"),\n",
    "    (\"https://liblibai-online.vibrou.com/models/ac23d6bc1ebe25026a46bd801209f9092d8f0e4d.safetensors\", \"立绘通用.safetensors\"),\n",
    "    (\"https://liblibai-online.vibrou.com/web/model/a56f767c01087a790a5adb4b274c0db41e490427166de81ed3a9db7c9a7ff71c.safetensors\", \"水墨画2.safetensors\")\n",
    "]\n",
    "\n",
    "download_directory = \"/mnt/workspace/stable-diffusion-webui/models/Lora/\"\n",
    "\n",
    "# 切换到下载目录\n",
    "%cd $download_directory\n",
    "\n",
    "for url, filename in extensions:\n",
    "    print(f\"Downloading {url} to {filename}...\")\n",
    "    !aria2c -c {url} -o {filename}\n",
    "\n",
    "# 完成后返回原工作目录\n",
    "%cd /"
   ]
  },
  {
   "cell_type": "markdown",
   "id": "bde6488e-5228-4f74-80e6-670570c09475",
   "metadata": {
    "tags": []
   },
   "source": [
    "### 可选代码之底部模型下载（括号内第一个双引号内放链接，第二个双引号放模型名字加后缀，使用时可自行增删改查）"
   ]
  },
  {
   "cell_type": "code",
   "execution_count": null,
   "id": "93fe4033-c276-4ef4-bee8-6fb15cfb4195",
   "metadata": {
    "ExecutionIndicator": {
     "show": true
    },
    "tags": []
   },
   "outputs": [],
   "source": [
    "extensions = [\n",
    "    (\"https://liblibai-online.vibrou.com/web/model/250cfc80d41deba9699d9c8964a8d255ef71202dba821bb18adb4760ec0a44db.safetensors\", \"硬板画.safetensors\"),\n",
    "    (\"https://liblibai-online.vibrou.com/models/b90c3c9b66e653ca44bb8969cd46790db4f34f2a.safetensors\", \"万象熔炉.safetensors\"),\n",
    "    (\"https://liblibai-online.vibrou.com/web/model/39d6af08b2b67736eedac9b52f22c624fab7cc4a99c51a05a05f605f9fc43a5b.safetensors\", \"QteaMixOmega.safetensors\"),\n",
    "    (\"https://liblibai-online.vibrou.com/web/model/8663af71cc31f075a316372551eb9d1fc1c87879a90a05361721d42e72dea4f1.safetensors\", \"小清新.safetensors\"),\n",
    "    (\"https://liblibai-online.vibrou.com/web/model/d7e2ac2f4a1f8853a327e38ec8b8fabc000205d17722ad055d84f2507c84b9ac.safetensors\", \"麦橘v2加强.safetensors\"),\n",
    "    (\"https://liblibai-online.vibrou.com/models/e67e583a3092b98a1876715aaf47d7f6012e41e2.safetensors\", \"可爱头像.safetensors\"),\n",
    "]\n",
    "\n",
    "download_directory = \"/mnt/workspace/stable-diffusion-webui/models/Stable-diffusion/\"\n",
    "\n",
    "# 切换到下载目录\n",
    "%cd $download_directory\n",
    "\n",
    "for url, filename in extensions:\n",
    "    print(f\"Downloading {url} to {filename}...\")\n",
    "    !aria2c -c {url} -o {filename}\n",
    "\n",
    "# 完成后返回原工作目录\n",
    "%cd /"
   ]
  },
  {
   "cell_type": "markdown",
   "id": "875cfbdf-79cd-4725-b1d5-89b77577d163",
   "metadata": {},
   "source": [
    "### 可选代码之脸部修复模型下载"
   ]
  },
  {
   "cell_type": "code",
   "execution_count": null,
   "id": "a8a2e79e-ec61-4337-a805-91780af29d16",
   "metadata": {},
   "outputs": [],
   "source": [
    "!mkdir -p /mnt/workspace/stable-diffusion-webui/models/adetailer/\n",
    "%cd /mnt/workspace/stable-diffusion-webui/models/adetailer/\n",
    "!aria2c -c https://huggingface.sukaka.top/Bingsu/adetailer/resolve/main/deepfashion2_yolov8s-seg.pt\n",
    "!aria2c -c https://huggingface.sukaka.top/Bingsu/adetailer/resolve/main/face_yolov8n.pt\n",
    "!aria2c -c https://huggingface.sukaka.top/Bingsu/adetailer/resolve/main/face_yolov8n_v2.pt\n",
    "!aria2c -c https://huggingface.sukaka.top/Bingsu/adetailer/resolve/main/hand_yolov8n.pt\n",
    "!aria2c -c https://huggingface.sukaka.top/Bingsu/adetailer/resolve/main/person_yolov8n-seg.pt"
   ]
  },
  {
   "cell_type": "markdown",
   "id": "2619f284-71c2-4c0f-9963-8028ee075464",
   "metadata": {},
   "source": [
    "### 可选代码之controlnet模型下载"
   ]
  },
  {
   "cell_type": "markdown",
   "id": "1755fdbb-f562-4e89-b12f-7baf1939ae76",
   "metadata": {},
   "source": [
    "#### 艺术字二维码的模型"
   ]
  },
  {
   "cell_type": "code",
   "execution_count": null,
   "id": "00293f83-a2b6-41b3-9864-e2dd3d3157ee",
   "metadata": {},
   "outputs": [],
   "source": [
    "%cd /mnt/workspace/stable-diffusion-webui/extensions/sd-webui-controlnet/models/\n",
    "!aria2c -c https://liblibai-online.vibrou.com/models/c7f43f70e266153d12f5e1bb1c9e7be3f4513cf0eef0432661b1331bfe11cadf.safetensors -O qrcode.safetensors\n",
    "!aria2c -c https://huggingface.sukaka.top/casque/lightingBasedPicture_v10/resolve/main/lightingBasedPicture_v10.safetensors \n",
    "!aria2c -c https://huggingface.sukaka.top/monster-labs/control_v1p_sd15_qrcode_monster/resolve/main/v2/control_v1p_sd15_qrcode_monster_v2.safetensors\n",
    "!aria2c -c https://huggingface.sukaka.top/monster-labs/control_v1p_sd15_qrcode_monster/resolve/main/v2/control_v1p_sd15_qrcode_monster_v2.yaml\n",
    "!aria2c -c https://huggingface.sukaka.top/ioclab/ioc-controlnet/resolve/main/models/control_v1p_sd15_brightness.safetensors\n",
    "!aria2c -c https://huggingface.sukaka.top/Gluttony10/1/resolve/main/control_v1p_sd15_brightness.yaml"
   ]
  },
  {
   "cell_type": "markdown",
   "id": "18c77019-18cd-4a44-aec1-ea19f061ebe0",
   "metadata": {},
   "source": [
    "#### controlnet的预处理器下载（包含了大部分算法的预处理器但不是全部）"
   ]
  },
  {
   "cell_type": "code",
   "execution_count": null,
   "id": "2a4e3f88-b953-48a9-977b-f0643af52c43",
   "metadata": {},
   "outputs": [],
   "source": [
    "!mkdir -p  /mnt/workspace/stable-diffusion-webui/extensions/sd-webui-controlnet/annotator/downloads/clip_vision/\n",
    "%cd /mnt/workspace/stable-diffusion-webui/extensions/sd-webui-controlnet/annotator/downloads/clip_vision/\n",
    "!aria2c -c  https://liblibai-online.vibrou.com/web/model/3d3ec1e66737f77a4f3bc2df3c52eacefc69ce7825e2784183b1d4e9877d9193.ckpt  -O pytorch_model.bin\n",
    "\n",
    "!mkdir -p  /mnt/workspace/stable-diffusion-webui/extensions/sd-webui-controlnet/annotator/downloads/\n",
    "%cd /mnt/workspace/stable-diffusion-webui/extensions/sd-webui-controlnet/annotator/downloads/\n",
    "!aria2c -c  https://huggingface.sukaka.top/lllyasviel/ControlNet/resolve/main/annotator/ckpts/dpt_hybrid-midas-501f0c75.pt  \n",
    "\n",
    "!mkdir -p  /mnt/workspace/stable-diffusion-webui/extensions/sd-webui-controlnet/annotator/downloads/lineart_anime/\n",
    "%cd /mnt/workspace/stable-diffusion-webui/extensions/sd-webui-controlnet/annotator/downloads/lineart_anime/\n",
    "!aria2c -c  https://huggingface.sukaka.top/lllyasviel/Annotators/resolve/main/netG.pth  -o netG.pth\n",
    " \n",
    "!mkdir -p  /mnt/workspace/stable-diffusion-webui/extensions/sd-webui-controlnet/annotator/downloads/manga_line/\n",
    "%cd /mnt/workspace/stable-diffusion-webui/extensions/sd-webui-controlnet/annotator/downloads/manga_line/\n",
    "!aria2c -c  https://huggingface.sukaka.top/lllyasviel/Annotators/resolve/main/erika.pth  -o erika.pth\n",
    "\n",
    "!mkdir -p   /mnt/workspace/stable-diffusion-webui/extensions/sd-webui-controlnet/annotator/downloads/pidinet/\n",
    "%cd /mnt/workspace/stable-diffusion-webui/extensions/sd-webui-controlnet/annotator/downloads/pidinet/\n",
    "!aria2c -c  https://huggingface.sukaka.top/lllyasviel/Annotators/resolve/main/table5_pidinet.pth  \n",
    "\n",
    "\n",
    "!mkdir -p  /mnt/workspace/stable-diffusion-webui/extensions/sd-webui-controlnet/annotator/downloads/openpose/\n",
    "%cd /mnt/workspace/stable-diffusion-webui/extensions/sd-webui-controlnet/annotator/downloads/openpose/\n",
    "!aria2c -c  https://huggingface.sukaka.top/lllyasviel/Annotators/resolve/main/body_pose_model.pth   -o body_pose_model.pth\n",
    "!aria2c -c  https://huggingface.sukaka.top/lllyasviel/Annotators/resolve/main/hand_pose_model.pth -o hand_pose_model.pth\n",
    "!aria2c -c  https://huggingface.sukaka.top/yzd-v/DWPose/resolve/main/yolox_l.onnx -o yolox_l.onnx\n",
    "!aria2c -c  https://huggingface.sukaka.top/yzd-v/DWPose/resolve/main/dw-ll_ucoco_384.onnx   -o dw-ll_ucoco_384.onnx\n",
    "!aria2c -c  https://huggingface.sukaka.top/lllyasviel/Annotators/resolve/main/facenet.pth\n",
    "\n",
    "\n",
    "!mkdir -p    /mnt/workspace/stable-diffusion-webui/extensions/sd-webui-controlnet/annotator/downloads/midas/\n",
    "%cd /mnt/workspace/stable-diffusion-webui/extensions/sd-webui-controlnet/annotator/downloads/midas/\n",
    "!aria2c -c  https://huggingface.sukaka.top/lllyasviel/ControlNet/resolve/main/annotator/ckpts/dpt_hybrid-midas-501f0c75.pt -o dpt_hybrid-midas-501f0c75.pt"
   ]
  },
  {
   "cell_type": "markdown",
   "id": "985e1921-c4b4-42cd-88f2-46da988a9f18",
   "metadata": {
    "tags": []
   },
   "source": [
    "#### sd1.5 controlnet 路径：（/mnt/workspace/stable-diffusion-webui/extensions/sd-webui-controlnet/models）来自于https://www.wisemodel.cn/models/QQQ/liefeng/file"
   ]
  },
  {
   "cell_type": "code",
   "execution_count": null,
   "id": "daa20780-9d3b-4503-a9ae-324114d1132b",
   "metadata": {},
   "outputs": [],
   "source": [
    "extensions = [\n",
    "    \"https://www.wisemodel.cn/file-proxy/QQQ/liefeng/-/raw/main/control_v11e_sd15_ip2p.pth\",\n",
    "    \"https://www.wisemodel.cn/file-proxy/QQQ/liefeng/-/raw/main/control_v11e_sd15_ip2p.yaml\",\n",
    "    \"https://www.wisemodel.cn/file-proxy/QQQ/liefeng/-/raw/main/control_v11e_sd15_shuffle.pth\",\n",
    "    \"https://www.wisemodel.cn/file-proxy/QQQ/liefeng/-/raw/main/control_v11e_sd15_shuffle.yaml\",\n",
    "    \"https://www.wisemodel.cn/file-proxy/QQQ/liefeng/-/raw/main/control_v11f1e_sd15_tile.pth\",\n",
    "    \"https://www.wisemodel.cn/file-proxy/QQQ/liefeng/-/raw/main/control_v11f1e_sd15_tile.yaml\",\n",
    "    \"https://www.wisemodel.cn/file-proxy/QQQ/liefeng/-/raw/main/control_v11f1p_sd15_depth.pth\",\n",
    "    \"https://www.wisemodel.cn/file-proxy/QQQ/liefeng/-/raw/main/control_v11f1p_sd15_depth.yaml\",\n",
    "    \"https://www.wisemodel.cn/file-proxy/QQQ/liefeng/-/raw/main/control_v11p_sd15_canny.pth\",\n",
    "    \"https://www.wisemodel.cn/file-proxy/QQQ/liefeng/-/raw/main/control_v11p_sd15_canny.yaml\",\n",
    "    \"https://www.wisemodel.cn/file-proxy/QQQ/liefeng/-/raw/main/control_v11p_sd15_inpaint.pth\",\n",
    "    \"https://www.wisemodel.cn/file-proxy/QQQ/liefeng/-/raw/main/control_v11p_sd15_inpaint.yaml\",\n",
    "    \"https://www.wisemodel.cn/file-proxy/QQQ/liefeng/-/raw/main/control_v11p_sd15_lineart.pth\",\n",
    "    \"https://www.wisemodel.cn/file-proxy/QQQ/liefeng/-/raw/main/control_v11p_sd15_lineart.yaml\",\n",
    "    \"https://www.wisemodel.cn/file-proxy/QQQ/liefeng/-/raw/main/control_v11p_sd15_mlsd.pth\",\n",
    "    \"https://www.wisemodel.cn/file-proxy/QQQ/liefeng/-/raw/main/control_v11p_sd15_mlsd.yaml\",\n",
    "    \"https://www.wisemodel.cn/file-proxy/QQQ/liefeng/-/raw/main/control_v11p_sd15_normalbae.pth\",\n",
    "    \"https://www.wisemodel.cn/file-proxy/QQQ/liefeng/-/raw/main/control_v11p_sd15_normalbae.yaml\",\n",
    "    \"https://www.wisemodel.cn/file-proxy/QQQ/liefeng/-/raw/main/control_v11p_sd15_openpose.pth\",\n",
    "    \"https://www.wisemodel.cn/file-proxy/QQQ/liefeng/-/raw/main/control_v11p_sd15_openpose.yaml\",\n",
    "    \"https://www.wisemodel.cn/file-proxy/QQQ/liefeng/-/raw/main/control_v11p_sd15_scribble.pth\",\n",
    "    \"https://www.wisemodel.cn/file-proxy/QQQ/liefeng/-/raw/main/control_v11p_sd15_scribble.yaml\",\n",
    "    \"https://www.wisemodel.cn/file-proxy/QQQ/liefeng/-/raw/main/control_v11p_sd15_seg.pth\",\n",
    "    \"https://www.wisemodel.cn/file-proxy/QQQ/liefeng/-/raw/main/control_v11p_sd15_seg.yaml\",\n",
    "    \"https://www.wisemodel.cn/file-proxy/QQQ/liefeng/-/raw/main/control_v11p_sd15_softedge.pth\",\n",
    "    \"https://www.wisemodel.cn/file-proxy/QQQ/liefeng/-/raw/main/control_v11p_sd15_softedge.pth\",\n",
    "    \"https://www.wisemodel.cn/file-proxy/QQQ/liefeng/-/raw/main/control_v11p_sd15s2_lineart_anime.pth\",\n",
    "    \"https://www.wisemodel.cn/file-proxy/QQQ/liefeng/-/raw/main/control_v11p_sd15s2_lineart_anime.yaml\",\n",
    "]\n",
    "\n",
    "download_directory = \"/mnt/workspace/stable-diffusion-webui/extensions/sd-webui-controlnet/models\"\n",
    "\n",
    "# 切换到下载目录\n",
    "%cd $download_directory\n",
    "\n",
    "for e in extensions:\n",
    "    print(f\"Downloading {e}...\")\n",
    "    !aria2c -c {e}\n",
    "\n",
    "# 完成后返回原工作目录\n",
    "%cd /"
   ]
  },
  {
   "cell_type": "markdown",
   "id": "73a3d9f0-c01c-484a-a39e-4fbd191f0d9b",
   "metadata": {
    "tags": []
   },
   "source": [
    "#### sdxlcontrolnet 路径：（/mnt/workspace/stable-diffusion-webui/extensions/sd-webui-controlnet/models）来自于https://www.wisemodel.cn/models/QQQ/xlcn/file"
   ]
  },
  {
   "cell_type": "code",
   "execution_count": null,
   "id": "0489058a-6c39-479a-ba2f-79636667ba1c",
   "metadata": {},
   "outputs": [],
   "source": [
    "extensions = [\n",
    " \"https://www.wisemodel.cn/file-proxy/QQQ/xlcn/-/raw/main/diffusers_xl_canny_full.safetensors\",\n",
    " \"https://www.wisemodel.cn/file-proxy/QQQ/xlcn/-/raw/main/diffusers_xl_canny_mid.safetensors\",\n",
    " \"https://www.wisemodel.cn/file-proxy/QQQ/xlcn/-/raw/main/diffusers_xl_canny_small.safetensors\",\n",
    " \"https://www.wisemodel.cn/file-proxy/QQQ/xlcn/-/raw/main/diffusers_xl_depth_full.safetensors\",\n",
    " \"https://www.wisemodel.cn/file-proxy/QQQ/xlcn/-/raw/main/diffusers_xl_depth_mid.safetensors\",\n",
    " \"https://www.wisemodel.cn/file-proxy/QQQ/xlcn/-/raw/main/diffusers_xl_depth_small.safetensors\",\n",
    " \"https://www.wisemodel.cn/file-proxy/QQQ/xlcn/-/raw/main/ioclab_sd15_recolor.safetensors\",\n",
    " \"https://www.wisemodel.cn/file-proxy/QQQ/xlcn/-/raw/main/ip-adapter_sd15.pth\",\n",
    " \"https://www.wisemodel.cn/file-proxy/QQQ/xlcn/-/raw/main/ip-adapter_sd15_plus.pth\",\n",
    " \"https://www.wisemodel.cn/file-proxy/QQQ/xlcn/-/raw/main/ip-adapter_xl.pth\",\n",
    " \"https://www.wisemodel.cn/file-proxy/QQQ/xlcn/-/raw/main/kohya_controllllite_xl_canny_anime.safetensors\",\n",
    " \"https://www.wisemodel.cn/file-proxy/QQQ/xlcn/-/raw/main/kohya_controllllite_xl_depth_anime.safetensors\",\n",
    " \"https://www.wisemodel.cn/file-proxy/QQQ/xlcn/-/raw/main/kohya_controllllite_xl_openpose_anime.safetensors\",\n",
    " \"https://www.wisemodel.cn/file-proxy/QQQ/xlcn/-/raw/main/kohya_controllllite_xl_openpose_anime_v2.safetensors\",\n",
    " \"https://www.wisemodel.cn/file-proxy/QQQ/xlcn/-/raw/main/kohya_controllllite_xl_scribble_anime.safetensors\",\n",
    " \"https://www.wisemodel.cn/file-proxy/QQQ/xlcn/-/raw/main/sai_xl_canny_128lora.safetensors\",\n",
    " \"https://www.wisemodel.cn/file-proxy/QQQ/xlcn/-/raw/main/sai_xl_canny_256lora.safetensors\",\n",
    " \"https://www.wisemodel.cn/file-proxy/QQQ/xlcn/-/raw/main/sai_xl_depth_128lora.safetensors\",\n",
    " \"https://www.wisemodel.cn/file-proxy/QQQ/xlcn/-/raw/main/sai_xl_depth_256lora.safetensors\",\n",
    " \"https://www.wisemodel.cn/file-proxy/QQQ/xlcn/-/raw/main/sai_xl_recolor_128lora.safetensors\",\n",
    " \"https://www.wisemodel.cn/file-proxy/QQQ/xlcn/-/raw/main/sai_xl_recolor_256lora.safetensors\",\n",
    " \"https://www.wisemodel.cn/file-proxy/QQQ/xlcn/-/raw/main/sai_xl_sketch_128lora.safetensors\",\n",
    " \"https://www.wisemodel.cn/file-proxy/QQQ/xlcn/-/raw/main/sai_xl_sketch_256lora.safetensors\",\n",
    " \"https://www.wisemodel.cn/file-proxy/QQQ/xlcn/-/raw/main/sargezt_xl_depth.safetensors\",\n",
    " \"https://www.wisemodel.cn/file-proxy/QQQ/xlcn/-/raw/main/sargezt_xl_depth_faid_vidit.safetensors\",\n",
    " \"https://www.wisemodel.cn/file-proxy/QQQ/xlcn/-/raw/main/sargezt_xl_depth_zeed.safetensors\",\n",
    " \"https://www.wisemodel.cn/file-proxy/QQQ/xlcn/-/raw/main/sargezt_xl_softedge.safetensors\",\n",
    " \"https://www.wisemodel.cn/file-proxy/QQQ/xlcn/-/raw/main/t2i-adapter_xl_canny.safetensors\",\n",
    " \"https://www.wisemodel.cn/file-proxy/QQQ/xlcn/-/raw/main/t2i-adapter_xl_openpose.safetensors\",\n",
    " \"https://www.wisemodel.cn/file-proxy/QQQ/xlcn/-/raw/main/t2i-adapter_xl_sketch.safetensors\",\n",
    " \"https://www.wisemodel.cn/file-proxy/QQQ/xlcn/-/raw/main/thibaud_xl_openpose.safetensors\",\n",
    " \"https://www.wisemodel.cn/file-proxy/QQQ/xlcn/-/raw/main/thibaud_xl_openpose_256lora.safetensors\",\n",
    " \"https://huggingface.sukaka.top/bdsqlsz/qinglong_controlnet-lllite/resolve/main/bdsqlsz_controlllite_xl_lineart_anime_denoise.safetensors\",\n",
    " \"https://huggingface.sukaka.top/bdsqlsz/qinglong_controlnet-lllite/resolve/main/bdsqlsz_controlllite_xl_mlsd_V2.safetensors\",\n",
    " \"https://huggingface.sukaka.top/bdsqlsz/qinglong_controlnet-lllite/resolve/main/bdsqlsz_controlllite_xl_normal.safetensors\",\n",
    " \"https://huggingface.sukaka.top/bdsqlsz/qinglong_controlnet-lllite/resolve/main/bdsqlsz_controlllite_xl_recolor_luminance.safetensors\",\n",
    " \"https://huggingface.sukaka.top/bdsqlsz/qinglong_controlnet-lllite/resolve/main/bdsqlsz_controlllite_xl_segment_animeface.safetensors\",\n",
    " \"https://huggingface.sukaka.top/bdsqlsz/qinglong_controlnet-lllite/resolve/main/bdsqlsz_controlllite_xl_canny.safetensors\",\n",
    " \"https://huggingface.sukaka.top/bdsqlsz/qinglong_controlnet-lllite/resolve/main/bdsqlsz_controlllite_xl_segment_animeface_V2.safetensors\",\n",
    " \"https://huggingface.sukaka.top/bdsqlsz/qinglong_controlnet-lllite/resolve/main/bdsqlsz_controlllite_xl_t2i-adapter_color_shuffle.safetensors\",\n",
    " \"https://huggingface.sukaka.top/lllyasviel/sd_control_collection/blob/main/t2i-adapter_diffusers_xl_lineart.safetensors\",\n",
    "]\n",
    "\n",
    "download_directory = \"/mnt/workspace/stable-diffusion-webui/extensions/sd-webui-controlnet/models\"\n",
    "\n",
    "# 切换到下载目录\n",
    "%cd $download_directory\n",
    "\n",
    "for e in extensions:\n",
    "    print(f\"Downloading {e}...\")\n",
    "    !aria2c -c {e}\n",
    "\n",
    "# 完成后返回原工作目录\n",
    "%cd /"
   ]
  },
  {
   "cell_type": "markdown",
   "id": "8c5dac92-50f3-4897-805f-7906c4085d0c",
   "metadata": {
    "tags": []
   },
   "source": [
    "##  三、可选代码之高清修复优化器文件下载"
   ]
  },
  {
   "cell_type": "markdown",
   "id": "e2436bf8-9db8-4aff-9751-350dab1ee9d0",
   "metadata": {},
   "source": [
    "### RealESRGAN优化器"
   ]
  },
  {
   "cell_type": "code",
   "execution_count": null,
   "id": "1c7e04c4-0a9f-48e2-b0bf-396813876495",
   "metadata": {
    "tags": []
   },
   "outputs": [],
   "source": [
    "!mkdir -p /mnt/workspace/stable-diffusion-webui/models/RealESRGAN/\n",
    "%cd /mnt/workspace/stable-diffusion-webui/models/RealESRGAN/\n",
    "!wget -c https://github.moeyy.xyz/https://github.com/xinntao/Real-ESRGAN/releases/download/v0.1.0/RealESRGAN_x4plus.pth\n",
    "!wget -c https://github.moeyy.xyz/https://github.com/xinntao/Real-ESRGAN/releases/download/v0.2.2.4/RealESRGAN_x4plus_anime_6B.pth"
   ]
  },
  {
   "cell_type": "markdown",
   "id": "2d2a2626-84da-4fe2-bf81-1551a554c13a",
   "metadata": {},
   "source": [
    "### ESRGAN优化器和4x-UltraSharp优化器"
   ]
  },
  {
   "cell_type": "code",
   "execution_count": null,
   "id": "24c74a55-a501-4058-a4a9-50291a553f5b",
   "metadata": {},
   "outputs": [],
   "source": [
    "!mkdir -p  /mnt/workspace/stable-diffusion-webui/models/ESRGAN\n",
    "%cd /mnt/workspace/stable-diffusion-webui/models/ESRGAN\n",
    "!wget -c https://github.moeyy.xyz/https://github.com/cszn/KAIR/releases/download/v1.0/ESRGAN.pth\n",
    "!wget -c https://huggingface.sukaka.top/d1111111/333/resolve/main/4x-UltraSharp.pth"
   ]
  },
  {
   "cell_type": "markdown",
   "id": "87a195a3-fdce-49ac-a055-dd7f74d885e0",
   "metadata": {},
   "source": [
    "### ScuNET优化器"
   ]
  },
  {
   "cell_type": "code",
   "execution_count": null,
   "id": "86b3aab7-40b3-4d39-b7a6-df14933340d8",
   "metadata": {},
   "outputs": [],
   "source": [
    "!mkdir -p /mnt/workspace/stable-diffusion-webui/models/ScuNET/\n",
    "%cd /mnt/workspace/stable-diffusion-webui/models/ScuNET/\n",
    "!wget -c  https://github.moeyy.xyz/https://github.com/cszn/KAIR/releases/download/v1.0/scunet_color_real_gan.pth -O  ScuNET.pth"
   ]
  },
  {
   "cell_type": "markdown",
   "id": "e2ada24c-6313-45c0-8f1b-00ea71a848ca",
   "metadata": {},
   "source": [
    "### SwinIR优化器"
   ]
  },
  {
   "cell_type": "code",
   "execution_count": null,
   "id": "37b8ba49-26c4-491f-805a-632271f1f438",
   "metadata": {
    "tags": []
   },
   "outputs": [],
   "source": [
    "!mkdir -p  /mnt/workspace/stable-diffusion-webui/models/SwinIR/\n",
    "%cd /mnt/workspace/stable-diffusion-webui/models/SwinIR/\n",
    "!wget -c  https://github.moeyy.xyz/https://github.com/JingyunLiang/SwinIR/releases/download/v0.0/003_realSR_BSRGAN_DFOWMFC_s64w8_SwinIR-L_x4_GAN.pth -O  SwinIR_4x.pth"
   ]
  },
  {
   "cell_type": "markdown",
   "id": "91c3eb04-6678-4149-9441-d0196f5e9036",
   "metadata": {},
   "source": [
    "### LDSR优化器"
   ]
  },
  {
   "cell_type": "code",
   "execution_count": null,
   "id": "2139b397-fb3e-483d-a53c-06db191b2754",
   "metadata": {
    "ExecutionIndicator": {
     "show": true
    },
    "tags": []
   },
   "outputs": [],
   "source": [
    "!mkdir -p  /mnt/workspace/stable-diffusion-webui/models/LDSR/\n",
    "%cd  /mnt/workspace/stable-diffusion-webui/models/LDSR/\n",
    "!wget -c https://heibox.uni-heidelberg.de/seafhttp/files/982d44d3-008f-4981-be7d-3f765b0a5b85/2021-11-02T06-24-44-project.yaml\n",
    "!wget -c https://heibox.uni-heidelberg.de/seafhttp/files/40d62cf6-4c39-421a-aed9-d6935c770fd9/last.ckpt  -O  model.ckpt"
   ]
  },
  {
   "cell_type": "markdown",
   "id": "ba7f0d69-e258-455c-a854-f330517137d8",
   "metadata": {
    "tags": []
   },
   "source": [
    "##  四、可选代码之打标器模型下载"
   ]
  },
  {
   "cell_type": "markdown",
   "id": "a60e2ea8-a325-407c-a2fa-7b065bf78721",
   "metadata": {},
   "source": [
    "### deepbanbooru打标器模型下载"
   ]
  },
  {
   "cell_type": "code",
   "execution_count": null,
   "id": "db501ad4-df98-4298-b729-22df2939bcfc",
   "metadata": {
    "ExecutionIndicator": {
     "show": true
    },
    "tags": []
   },
   "outputs": [],
   "source": [
    "!mkdir -p  /mnt/workspace/stable-diffusion-webui/models/torch_deepdanbooru/\n",
    "%cd  /mnt/workspace/stable-diffusion-webui/models/torch_deepdanbooru/\n",
    "!wget -c https://github.moeyy.xyz/https://github.com/AUTOMATIC1111/TorchDeepDanbooru/releases/download/v1/model-resnet_custom_v3.pt"
   ]
  },
  {
   "cell_type": "markdown",
   "id": "330e81b5-ec32-4d94-8e78-c386f8f859be",
   "metadata": {},
   "source": [
    "### blip打标器模型下载"
   ]
  },
  {
   "cell_type": "code",
   "execution_count": null,
   "id": "57151bcd-5469-447d-aacb-c9385070a7c7",
   "metadata": {},
   "outputs": [],
   "source": [
    "!mkdir -p  /mnt/workspace/stable-diffusion-webui/models/BLIP/\n",
    "%cd  /mnt/workspace/stable-diffusion-webui/models/BLIP/\n",
    "!wget -c  https://storage.googleapis.com/sfr-vision-language-research/BLIP/models/model_base_caption_capfilt_large.pth"
   ]
  },
  {
   "cell_type": "markdown",
   "id": "9facb760-64d4-41a1-b551-0704cf39b1a3",
   "metadata": {},
   "source": [
    "### OpenCV人脸识别器下载"
   ]
  },
  {
   "cell_type": "code",
   "execution_count": null,
   "id": "726b0b92-f074-4886-b7bd-5ee419a1f458",
   "metadata": {
    "tags": []
   },
   "outputs": [],
   "source": [
    "!mkdir -p  /mnt/workspace/stable-diffusion-webui/models/opencv\n",
    "%cd /mnt/workspace/stable-diffusion-webui/models/opencv\n",
    "!wget -c https://github.moeyy.xyz/https://github.com/opencv/opencv_zoo/blob/91fb0290f50896f38a0ab1e558b74b16bc009428/models/face_detection_yunet/face_detection_yunet_2022mar.onnx?raw=true -O  face_detection_yunet.onnx"
   ]
  },
  {
   "cell_type": "markdown",
   "id": "5cd5e9ac-ba52-4372-ba69-ae4ced7bb4c3",
   "metadata": {},
   "source": [
    "##  五、可选代码之负面优化embedding下载（可选）"
   ]
  },
  {
   "cell_type": "code",
   "execution_count": null,
   "id": "9a517f2d-bb44-455b-b3d9-d820064633ad",
   "metadata": {
    "tags": []
   },
   "outputs": [],
   "source": [
    "!mkdir -p  /mnt/workspace/stable-diffusion-webui/embeddings\n",
    "%cd /mnt/workspace/stable-diffusion-webui/embeddings\n",
    "\n",
    "!wget -c  https://github.moeyy.xyz/https://github.com/gluttony-10/1/blob/main/badhandv4.pt\n",
    "\n",
    "!wget -c  https://github.moeyy.xyz/https://github.com/gluttony-10/1/blob/main/easynegative.safetensors\n",
    "\n",
    "!wget -c  https://github.moeyy.xyz/https://github.com/gluttony-10/1/blob/main/putnegative.safetensors\n",
    "\n",
    "!wget -c  https://github.moeyy.xyz/https://github.com/gluttony-10/1/blob/main/verybadimagenegative_v1.3.pt"
   ]
  },
  {
   "cell_type": "markdown",
   "id": "576391eb-a4cf-468c-adb5-fb713e019f75",
   "metadata": {},
   "source": [
    "## 六、可选代码之VAE的下载（训练脚本那边用的，懒得弄过去了就这样吧）"
   ]
  },
  {
   "cell_type": "code",
   "execution_count": null,
   "id": "477d7ceb-260f-4572-a84d-679d8491c326",
   "metadata": {},
   "outputs": [],
   "source": [
    "## vae的下载\n",
    "!rm -r /mnt/workspace/lora-scripts/vae/\n",
    "!mkdir -p /mnt/workspace/lora-scripts/vae/\n",
    "!cd /mnt/workspace/lora-scripts/sd-models/ && aria2c -c  https://liblibai-online.vibrou.com/models/c6a580b13a5bc05a5e16e4dbb80608ff2ec251a162311590c1f34c013d7f3dab.pt?attname=vae-ft-mse-840000-ema-pruned_v10.0.pt"
   ]
  },
  {
   "cell_type": "code",
   "execution_count": null,
   "id": "a08a585b-564d-4d80-b357-e9ba7a431767",
   "metadata": {},
   "outputs": [],
   "source": [
    "## sdxl使用官方底膜务必要使用这个vae的下载\n",
    "!rm -r /mnt/workspace/lora-scripts/vae/\n",
    "!mkdir -p /mnt/workspace/lora-scripts/vae/\n",
    "!cd /mnt/workspace/lora-scripts/sd-models/  && aria2c -c   https://www.wisemodel.cn/file-proxy/fireicewolf/stable_diffusion_xl_base_1.0/-/raw/main/sdxl_vae_fp16_fix.safetensors"
   ]
  },
  {
   "cell_type": "markdown",
   "id": "1e6b7d01-8c7c-461d-910d-03080eb91032",
   "metadata": {},
   "source": [
    "### ai转绘必备依赖"
   ]
  },
  {
   "cell_type": "code",
   "execution_count": null,
   "id": "33bdb6c0-89f2-48d0-a4f3-6cc8d31eac26",
   "metadata": {
    "tags": []
   },
   "outputs": [],
   "source": [
    "!apt update\n",
    "!DEBIAN_FRONTEND=noninteractive apt-get install -y tzdata\n",
    "!dpkg --configure -a\n",
    "!DEBIAN_FRONTEND=noninteractive apt install -y ffmpeg \n",
    "!ffmpeg -version"
   ]
  }
 ],
 "metadata": {
  "kernelspec": {
   "display_name": "Python 3 (ipykernel)",
   "language": "python",
   "name": "python3"
  },
  "language_info": {
   "codemirror_mode": {
    "name": "ipython",
    "version": 3
   },
   "file_extension": ".py",
   "mimetype": "text/x-python",
   "name": "python",
   "nbconvert_exporter": "python",
   "pygments_lexer": "ipython3",
   "version": "3.10.6"
  }
 },
 "nbformat": 4,
 "nbformat_minor": 5
}
