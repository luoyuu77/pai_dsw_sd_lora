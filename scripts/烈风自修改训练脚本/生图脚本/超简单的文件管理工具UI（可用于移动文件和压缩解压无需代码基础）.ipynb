{
 "cells": [
  {
   "cell_type": "code",
   "execution_count": null,
   "id": "f83af814-dc30-4a0b-842f-a8e972350773",
   "metadata": {},
   "outputs": [],
   "source": [
    "#安装解压软件和下载存储工具\n",
    "!apt-get update  > /dev/null 2>&1 \n",
    "!apt-get install zip -y > /dev/null 2>&1\n",
    "!apt install -y aria2 > /dev/null 2>&1 && echo 全部成功\n",
    "# 安装imjoy-elfinder（web文件浏览器）依赖\n",
    "!sudo apt-get update > /dev/null 2>&1 \n",
    "!sudo apt-get install -y python3-pip  > /dev/null 2>&1 \n",
    "!sudo apt-get install -y libfuse-dev  > /dev/null 2>&1 \n",
    "!pip3 install imjoy-elfinder         > /dev/null 2>&1 "
   ]
  },
  {
   "cell_type": "code",
   "execution_count": null,
   "id": "0b0a88ff-08de-4a8b-9965-62b270dd4d66",
   "metadata": {},
   "outputs": [],
   "source": [
    "# 启动imjoy-elfinder服务\n",
    "!imjoy-elfinder --root-dir=/mnt/workspace/ --port=8076"
   ]
  }
 ],
 "metadata": {
  "kernelspec": {
   "display_name": "Python 3 (ipykernel)",
   "language": "python",
   "name": "python3"
  },
  "language_info": {
   "codemirror_mode": {
    "name": "ipython",
    "version": 3
   },
   "file_extension": ".py",
   "mimetype": "text/x-python",
   "name": "python",
   "nbconvert_exporter": "python",
   "pygments_lexer": "ipython3",
   "version": "3.10.6"
  }
 },
 "nbformat": 4,
 "nbformat_minor": 5
}
