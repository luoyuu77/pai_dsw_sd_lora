{
 "cells": [
  {
   "cell_type": "markdown",
   "id": "9b58b970-149a-4a10-96d2-e39185021395",
   "metadata": {
    "tags": []
   },
   "source": [
    "# **基于Bilibili UP主：[秋葉aaaki]的阿里云webui脚本修改而来**"
   ]
  },
  {
   "cell_type": "markdown",
   "id": "e3ec5891-65eb-4364-aa25-f1eb655d4a49",
   "metadata": {},
   "source": [
    "## 一、webui主体安装"
   ]
  },
  {
   "cell_type": "code",
   "execution_count": null,
   "id": "cbaa06c0-8a40-49c5-af58-195171b12ada",
   "metadata": {
    "tags": []
   },
   "outputs": [],
   "source": [
    "#安装解压软件和下载存储工具\n",
    "!apt-get update  > /dev/null 2>&1 \n",
    "!apt-get install zip -y > /dev/null 2>&1\n",
    "!apt install -y aria2 > /dev/null 2>&1 && echo 全部成功\n",
    "%cd /mnt/workspace/\n",
    "!git clone -b v1.5.2 https://gitcode.net/overbill1683/stable-diffusion-webui\n",
    "%cd stable-diffusion-webui\n",
    "!mkdir repositories\n",
    "%cd repositories\n",
    "!git clone \"https://gitcode.net/overbill1683/stablediffusion\" \"stable-diffusion-stability-ai\"\n",
    "!git clone \"https://gitcode.net/overbill1683/taming-transformers\" \"taming-transformers\"\n",
    "!git clone \"https://gitcode.net/overbill1683/k-diffusion\" \"k-diffusion\"\n",
    "!git clone \"https://gitcode.net/overbill1683/CodeFormer\" \"CodeFormer\"\n",
    "!git clone \"https://gitcode.net/overbill1683/BLIP\" \"BLIP\"\n",
    "%cd /mnt/workspace/stable-diffusion-webui\n",
    "!wget -O \"config.json\" \"https://gitcode.net/Akegarasu/sd-webui-configs/-/raw/master/config.json\"\n",
    "%cd /mnt/workspace/stable-diffusion-webui/repositories\n",
    "!git clone https://ghproxy.com/https://github.com/Stability-AI/generative-models"
   ]
  },
  {
   "cell_type": "markdown",
   "id": "083d731d-1007-47d1-b0a0-9a3348135ee6",
   "metadata": {},
   "source": [
    "## 二、webui插件安装（可自行加入或替换插件）"
   ]
  },
  {
   "cell_type": "code",
   "execution_count": null,
   "id": "a560d0f7-421b-4ceb-9c72-f88d94e57b9e",
   "metadata": {
    "tags": []
   },
   "outputs": [],
   "source": [
    "## 安装常用插件\n",
    "extensions = [\n",
    "    \"https://github.com/hanamizuki-ai/stable-diffusion-webui-localization-zh_Hans\",\n",
    "    \"https://github.com/Mikubill/sd-webui-controlnet/\",\n",
    "    \"https://github.com/picobyte/stable-diffusion-webui-wd14-tagger\",\n",
    "    \"https://github.com/antfu/sd-webui-qrcode-toolkit\",\n",
    "    \"https://github.com/butaixianran/Stable-Diffusion-Webui-Civitai-Helper\",\n",
    "    \"https://github.com/AlUlkesh/stable-diffusion-webui-images-browser\",\n",
    "    \"https://github.com/pkuliyi2015/multidiffusion-upscaler-for-automatic1111\",\n",
    "    \"https://github.com/fkunn1326/openpose-editor\",\n",
    "    \"https://github.com/Akegarasu/sd-webui-video-frames\",\n",
    "    \"https://github.com/OedoSoldier/sd-webui-image-sequence-toolkit\",\n",
    "    \"https://github.com/Bing-su/adetailer\",\n",
    "    \"https://github.com/huchenlei/sd-webui-openpose-editor\",\n",
    "    \"https://github.com/sdbds/stable-diffusion-webui-wildcards\",\n",
    "    \"https://github.com/bbc-mc/sdweb-merge-block-weighted-gui\",\n",
    "    \"https://github.com/Physton/sd-webui-prompt-all-in-one\",\n",
    "    \"https://github.com/pkuliyi2015/sd-webui-stablesr\",\n",
    "    \"https://github.com/Uminosachi/sd-webui-inpaint-anything\",\n",
    "    \"https://github.com/hnmr293/sd-webui-cutoff\",\n",
    "    \"https://github.com/tzwm/sd-webui-model-downloader-cn\",\n",
    "    \"https://github.com/sd-fabric/fabric\",\n",
    "    \"https://github.com/d8ahazard/sd_dreambooth_extension\",\n",
    "    \"https://github.com/LonicaMewinsky/gif2gif\",\n",
    "    \"https://github.com/CiaraStrawberry/TemporalKit\",\n",
    "]\n",
    "\n",
    "%cd /mnt/workspace/stable-diffusion-webui\n",
    "\n",
    "for e in extensions:\n",
    "    proxied_url = \"https://ghproxy.com/\" + e\n",
    "    !git -C \"extensions\" clone {proxied_url}"
   ]
  },
  {
   "cell_type": "markdown",
   "id": "4567c839-6d47-43e7-ad59-83d6b1d75f5d",
   "metadata": {
    "tags": []
   },
   "source": [
    "### controlnet模型下载链接（可选）"
   ]
  },
  {
   "cell_type": "markdown",
   "id": "64915cce-111d-41a9-84f3-8c1a66c31d40",
   "metadata": {
    "tags": []
   },
   "source": [
    "#### sd1.5 controlnet 路径：（/mnt/workspace/stable-diffusion-webui/extensions/sd-webui-controlnet/models）来自于https://www.wisemodel.cn/models/QQQ/liefeng/file"
   ]
  },
  {
   "cell_type": "code",
   "execution_count": null,
   "id": "2efbdd72-b0a0-45b0-9dd7-d8971bce1d5e",
   "metadata": {},
   "outputs": [],
   "source": [
    "%cd /mnt/workspace/stable-diffusion-webui/extensions/sd-webui-controlnet/models\n",
    "!git clone https://www.wisemodel.cn/QQQ/liefeng.git"
   ]
  },
  {
   "cell_type": "markdown",
   "id": "d780f5ea-2f45-4310-a34d-8e902377a836",
   "metadata": {
    "tags": []
   },
   "source": [
    "#### sdxlcontrolnet 路径：（/mnt/workspace/stable-diffusion-webui/extensions/sd-webui-controlnet/models）来自于https://www.wisemodel.cn/models/QQQ/xlcn/file"
   ]
  },
  {
   "cell_type": "code",
   "execution_count": null,
   "id": "ef1a58c0-e4df-437c-99d8-dad79b219cf5",
   "metadata": {},
   "outputs": [],
   "source": [
    "%cd /mnt/workspace/stable-diffusion-webui/extensions/sd-webui-controlnet/models\n",
    "!git clone https://www.wisemodel.cn/QQQ/xlcn.git"
   ]
  },
  {
   "cell_type": "markdown",
   "id": "2240ecad-af0d-4cea-9294-c8b6ad0bc2bc",
   "metadata": {
    "tags": []
   },
   "source": [
    "###  高清修复优化器文件下载（可选）"
   ]
  },
  {
   "cell_type": "markdown",
   "id": "1bc25423-878a-4f77-b968-ab7ef953a204",
   "metadata": {},
   "source": [
    "#### RealESRGAN优化器"
   ]
  },
  {
   "cell_type": "code",
   "execution_count": null,
   "id": "f1b2244a-6773-4c76-9de9-1621b2dfc5bf",
   "metadata": {
    "tags": []
   },
   "outputs": [],
   "source": [
    "!mkdir -p /mnt/workspace/stable-diffusion-webui/models/RealESRGAN/\n",
    "%cd /mnt/workspace/stable-diffusion-webui/models/RealESRGAN/\n",
    "!wget -c https://ghproxy.com/https://github.com/xinntao/Real-ESRGAN/releases/download/v0.1.0/RealESRGAN_x4plus.pth\n",
    "!wget -c https://ghproxy.com/https://github.com/xinntao/Real-ESRGAN/releases/download/v0.2.2.4/RealESRGAN_x4plus_anime_6B.pth"
   ]
  },
  {
   "cell_type": "markdown",
   "id": "6da7ebb9-9b56-40cb-90f8-24a72bff5cdf",
   "metadata": {},
   "source": [
    "#### ESRGAN优化器"
   ]
  },
  {
   "cell_type": "code",
   "execution_count": null,
   "id": "555b04a4-45cb-434d-b266-ca9eec6db352",
   "metadata": {},
   "outputs": [],
   "source": [
    "!mkdir -p  /mnt/workspace/stable-diffusion-webui/models/ESRGAN\n",
    "%cd /mnt/workspace/stable-diffusion-webui/models/ESRGAN\n",
    "!wget -c https://ghproxy.com/https://github.com/cszn/KAIR/releases/download/v1.0/ESRGAN.pth"
   ]
  },
  {
   "cell_type": "markdown",
   "id": "68205e4c-cf35-4b0d-b60a-661dd1f56aa9",
   "metadata": {},
   "source": [
    "#### ScuNET优化器"
   ]
  },
  {
   "cell_type": "code",
   "execution_count": null,
   "id": "7225eafa-51a7-4ff9-a4e4-bef5fba7d7e9",
   "metadata": {},
   "outputs": [],
   "source": [
    "!mkdir -p /mnt/workspace/stable-diffusion-webui/models/ScuNET/\n",
    "%cd /mnt/workspace/stable-diffusion-webui/models/ScuNET/\n",
    "!wget -c  https://ghproxy.com/https://github.com/cszn/KAIR/releases/download/v1.0/scunet_color_real_gan.pth -O  ScuNET.pth"
   ]
  },
  {
   "cell_type": "markdown",
   "id": "f285bd70-b19b-4e52-9739-577025d0e0ac",
   "metadata": {},
   "source": [
    "#### SwinIR优化器"
   ]
  },
  {
   "cell_type": "code",
   "execution_count": null,
   "id": "b8f794f6-b4ae-46ba-985b-91422e666bc7",
   "metadata": {},
   "outputs": [],
   "source": [
    "!mkdir -p  mnt/workspace/stable-diffusion-webui/models/SwinIR/\n",
    "%cd /mnt/workspace/stable-diffusion-webui/models/SwinIR/\n",
    "!wget -c  https://ghproxy.com/https://github.com/JingyunLiang/SwinIR/releases/download/v0.0/003_realSR_BSRGAN_DFOWMFC_s64w8_SwinIR-L_x4_GAN.pth -O  SwinIR_4x.pth"
   ]
  },
  {
   "cell_type": "markdown",
   "id": "f07c113e-ad37-4886-920b-70aac6b8c790",
   "metadata": {},
   "source": [
    "#### LDSR优化器"
   ]
  },
  {
   "cell_type": "code",
   "execution_count": null,
   "id": "538c9566-892b-4834-b154-ed704a5b4ddf",
   "metadata": {},
   "outputs": [],
   "source": [
    "!mkdir -p  /mnt/workspace/stable-diffusion-webui/models/LDSR/\n",
    "%cd  /mnt/workspace/stable-diffusion-webui/models/LDSR/\n",
    "!wget -c https://heibox.uni-heidelberg.de/seafhttp/files/aaaf3b62-022d-4655-b86d-f43a178b7598/2021-11-02T06-24-44-project.yaml\n",
    "!wget -c https://heibox.uni-heidelberg.de/seafhttp/files/28a57900-41d5-4a40-b0f7-c9be3a7801d1/last.ckpt"
   ]
  },
  {
   "cell_type": "markdown",
   "id": "81a07265-ce36-43fa-ab03-75a6419c20f1",
   "metadata": {},
   "source": [
    "### deepbanbooru打标器模型下载（可选）"
   ]
  },
  {
   "cell_type": "code",
   "execution_count": null,
   "id": "e810fa37-2804-4181-ba8d-72eb1ff55368",
   "metadata": {
    "ExecutionIndicator": {
     "show": true
    },
    "tags": []
   },
   "outputs": [],
   "source": [
    "!mkdir -p  /mnt/workspace/stable-diffusion-webui/models/torch_deepdanbooru/\n",
    "%cd  /mnt/workspace/stable-diffusion-webui/models/torch_deepdanbooru/\n",
    "!wget -c https://ghproxy.com/https://github.com/AUTOMATIC1111/TorchDeepDanbooru/releases/download/v1/model-resnet_custom_v3.pt"
   ]
  },
  {
   "cell_type": "markdown",
   "id": "9d690bb5-029b-4495-b173-59e465e6ca0b",
   "metadata": {},
   "source": [
    "### blip打标器模型下载"
   ]
  },
  {
   "cell_type": "code",
   "execution_count": null,
   "id": "d3ed5b7d-7341-487a-a540-27c66dcdfd79",
   "metadata": {},
   "outputs": [],
   "source": [
    "!mkdir -p  /mnt/workspace/stable-diffusion-webui/models/BLIP/\n",
    "%cd  /mnt/workspace/stable-diffusion-webui/models/BLIP/\n",
    "!wget -c  https://storage.googleapis.com/sfr-vision-language-research/BLIP/models/model_base_caption_capfilt_large.pth"
   ]
  },
  {
   "cell_type": "markdown",
   "id": "ce9a8b4e-6092-4982-b64e-e3fdd5075e60",
   "metadata": {},
   "source": [
    "### OpenCV人脸识别器下载"
   ]
  },
  {
   "cell_type": "code",
   "execution_count": null,
   "id": "375b2d3f-9513-4a19-a536-46efb95c5673",
   "metadata": {
    "tags": []
   },
   "outputs": [],
   "source": [
    "!mkdir -p  /mnt/workspace/stable-diffusion-webui/models/opencv\n",
    "%cd /mnt/workspace/stable-diffusion-webui/models/opencv\n",
    "!wget -c https://ghproxy.com/https://github.com/opencv/opencv_zoo/blob/91fb0290f50896f38a0ab1e558b74b16bc009428/models/face_detection_yunet/face_detection_yunet_2022mar.onnx?raw=true -O  face_detection_yunet.onnx"
   ]
  },
  {
   "cell_type": "markdown",
   "id": "573b5dc1-c6b6-479e-84ec-9b32a6c50fb2",
   "metadata": {},
   "source": [
    "### 负面优化embedding下载（可选）"
   ]
  },
  {
   "cell_type": "code",
   "execution_count": null,
   "id": "951ed7e9-a73b-42c9-9c3d-d93455178e4d",
   "metadata": {
    "tags": []
   },
   "outputs": [],
   "source": [
    "!mkdir -p  /mnt/workspace/stable-diffusion-webui/embeddings\n",
    "%cd /mnt/workspace/stable-diffusion-webui/embeddings\n",
    "\n",
    "!wget -c  https://ghproxy.com/https://github.com/gluttony-10/1/blob/main/badhandv4.pt\n",
    "\n",
    "!wget -c  https://ghproxy.com/https://github.com/gluttony-10/1/blob/main/easynegative.safetensors\n",
    "\n",
    "!wget -c  https://ghproxy.com/https://github.com/gluttony-10/1/blob/main/putnegative.safetensors\n",
    "\n",
    "!wget -c  https://ghproxy.com/https://github.com/gluttony-10/1/blob/main/verybadimagenegative_v1.3.pt"
   ]
  },
  {
   "cell_type": "code",
   "execution_count": null,
   "id": "89ae5651-c201-4cf3-a23e-213991c6056c",
   "metadata": {
    "ExecutionIndicator": {
     "show": true
    },
    "tags": []
   },
   "outputs": [],
   "source": [
    "!df -h #查看剩余内存空间"
   ]
  },
  {
   "cell_type": "markdown",
   "id": "2a920b24-bed8-4c1a-8ac6-ba446d0d1944",
   "metadata": {
    "execution": {
     "iopub.execute_input": "2023-06-22T10:46:27.501011Z",
     "iopub.status.busy": "2023-06-22T10:46:27.500708Z",
     "iopub.status.idle": "2023-06-22T10:46:27.504540Z",
     "shell.execute_reply": "2023-06-22T10:46:27.503787Z",
     "shell.execute_reply.started": "2023-06-22T10:46:27.500993Z"
    }
   },
   "source": [
    "##   三、底膜和lora移动用于测试（如不想移动可跳过但要自行下载底膜）"
   ]
  },
  {
   "cell_type": "markdown",
   "id": "40fbc3b6-38ba-48df-9d50-bec839e5bf70",
   "metadata": {},
   "source": [
    "###  底膜移动"
   ]
  },
  {
   "cell_type": "code",
   "execution_count": null,
   "id": "7baf352b-caa8-4726-85ac-fee5d16ff62b",
   "metadata": {},
   "outputs": [],
   "source": [
    "#移动底膜到指定文件夹\n",
    "!mv /mnt/workspace/lora-scripts/sd-models/*   /mnt/workspace/stable-diffusion-webui/models/Stable-diffusion/"
   ]
  },
  {
   "cell_type": "markdown",
   "id": "1f66216f-3185-4b32-ae91-85f9494d7184",
   "metadata": {},
   "source": [
    "###  lora移动"
   ]
  },
  {
   "cell_type": "code",
   "execution_count": null,
   "id": "5be60c68-45a4-40f1-8854-fe92fb93ab21",
   "metadata": {},
   "outputs": [],
   "source": [
    "!mv /mnt/workspace/lora-scripts/output/*   /mnt/workspace/stable-diffusion-webui/models/Lora/"
   ]
  },
  {
   "cell_type": "markdown",
   "id": "9b39f1ec-8dac-41ec-8c8a-12ef16c406e5",
   "metadata": {
    "tags": []
   },
   "source": [
    "## 四、启动webUI"
   ]
  },
  {
   "cell_type": "code",
   "execution_count": null,
   "id": "d85fb406-c9e3-4792-8812-6420f085e3ea",
   "metadata": {
    "tags": []
   },
   "outputs": [],
   "source": [
    "import os\n",
    "package_envs  = [\n",
    "      {\n",
    "        \"env\": \"GFPGAN_PACKAGE\",\n",
    "        \"url\": \"git+https://gitcode.net/overbill1683/GFPGAN.git@8d2447a2d918f8eba5a4a01463fd48e45126a379\"\n",
    "      },\n",
    "      {\n",
    "        \"env\": \"CLIP_PACKAGE\",\n",
    "        \"url\": \"git+https://gitcode.net/overbill1683/CLIP.git@d50d76daa670286dd6cacf3bcd80b5e4823fc8e1\"\n",
    "      },\n",
    "      {\n",
    "        \"env\": \"OPENCLIP_PACKAGE\",\n",
    "        \"url\": \"git+https://gitcode.net/overbill1683/open_clip.git@bb6e834e9c70d9c27d0dc3ecedeebeaeb1ffad6b\"\n",
    "      }\n",
    "]\n",
    "os.environ[\"PIP_INDEX_URL\"] = \"https://mirrors.aliyun.com/pypi/simple/\"\n",
    "for i in package_envs:\n",
    "    os.environ[i[\"env\"]] = i[\"url\"]\n",
    "%cd /mnt/workspace/stable-diffusion-webui\n",
    "!python launch.py --no-download-sd-model --xformers --share --listen"
   ]
  },
  {
   "cell_type": "markdown",
   "id": "71fb27cf-3966-4a68-8e58-f1d6cbf014d0",
   "metadata": {},
   "source": [
    "# 可选代码"
   ]
  },
  {
   "cell_type": "markdown",
   "id": "b6eeadac-ae40-47e5-9951-16af305ae0b1",
   "metadata": {},
   "source": [
    "## 一、换一个阿里云文件管理ui的方法"
   ]
  },
  {
   "cell_type": "code",
   "execution_count": null,
   "id": "2bbf3224-afb7-4deb-81e8-07fe69deb170",
   "metadata": {
    "tags": []
   },
   "outputs": [],
   "source": [
    "# 安装imjoy-elfinder（web文件浏览器）依赖\n",
    "!sudo apt-get update > /dev/null 2>&1 \n",
    "!sudo apt-get install -y python3-pip  > /dev/null 2>&1 \n",
    "!sudo apt-get install -y libfuse-dev  > /dev/null 2>&1 \n",
    "!pip3 install imjoy-elfinder         > /dev/null 2>&1 \n",
    "# 启动imjoy-elfinder服务\n",
    "!imjoy-elfinder --root-dir=/mnt/workspace/ --port=8076  "
   ]
  },
  {
   "cell_type": "markdown",
   "id": "063485bd-38f1-4379-97dd-3a0e2687fba4",
   "metadata": {},
   "source": [
    "## 二、压缩文件代码用于方便进行下载该代码会将路径下的模型打包至/mnt/workspace/（即可见最表层目录）"
   ]
  },
  {
   "cell_type": "code",
   "execution_count": null,
   "id": "28cc0e8d-fce6-4e7d-8d42-9d7058eb97e3",
   "metadata": {},
   "outputs": [],
   "source": [
    "%cd /mnt/workspace/\n",
    "!tar -zcvf 1.tar.gz /mnt/workspace/lora-scripts/output > /dev/null 2>&1  && echo 压缩训练的lora模型成功"
   ]
  },
  {
   "cell_type": "markdown",
   "id": "576391eb-a4cf-468c-adb5-fb713e019f75",
   "metadata": {},
   "source": [
    "## 三、VAE的下载"
   ]
  },
  {
   "cell_type": "code",
   "execution_count": null,
   "id": "477d7ceb-260f-4572-a84d-679d8491c326",
   "metadata": {},
   "outputs": [],
   "source": [
    "## vae的下载\n",
    "!rm -r /mnt/workspace/lora-scripts/vae/\n",
    "!mkdir -p /mnt/workspace/lora-scripts/vae/\n",
    "!cd /mnt/workspace/lora-scripts/sd-models/ && aria2c -c  https://liblibai-online.vibrou.com/models/c6a580b13a5bc05a5e16e4dbb80608ff2ec251a162311590c1f34c013d7f3dab.pt?attname=vae-ft-mse-840000-ema-pruned_v10.0.pt"
   ]
  },
  {
   "cell_type": "code",
   "execution_count": null,
   "id": "a08a585b-564d-4d80-b357-e9ba7a431767",
   "metadata": {},
   "outputs": [],
   "source": [
    "## sdxl使用官方底膜务必要使用这个vae的下载\n",
    "!rm -r /mnt/workspace/lora-scripts/vae/\n",
    "!mkdir -p /mnt/workspace/lora-scripts/vae/\n",
    "!cd /mnt/workspace/lora-scripts/sd-models/  && aria2c -c   https://www.wisemodel.cn/file-proxy/fireicewolf/stable_diffusion_xl_base_1.0/-/raw/main/sdxl_vae_fp16_fix.safetensors?inline=false"
   ]
  },
  {
   "cell_type": "markdown",
   "id": "1e6b7d01-8c7c-461d-910d-03080eb91032",
   "metadata": {},
   "source": [
    "### ai转绘必备依赖"
   ]
  },
  {
   "cell_type": "code",
   "execution_count": null,
   "id": "33bdb6c0-89f2-48d0-a4f3-6cc8d31eac26",
   "metadata": {},
   "outputs": [],
   "source": [
    "# 使用apt包管理器安装FFmpeg\n",
    "!sudo apt update\n",
    "!sudo apt install ffmpeg -y\n",
    "# 确认FFmpeg是否已经安装成功\n",
    "!ffmpeg -version"
   ]
  },
  {
   "cell_type": "markdown",
   "id": "f8b19e8f-f72f-4aee-9111-42cd4864f983",
   "metadata": {},
   "source": [
    "### svd融合脚本启用"
   ]
  },
  {
   "cell_type": "code",
   "execution_count": null,
   "id": "4f52df37-ad5c-4483-a68c-0a2407ee7488",
   "metadata": {},
   "outputs": [],
   "source": [
    "%cd /mnt/workspace/lora-scripts/\n",
    "!bash svd_merge.sh"
   ]
  }
 ],
 "metadata": {
  "kernelspec": {
   "display_name": "Python 3 (ipykernel)",
   "language": "python",
   "name": "python3"
  },
  "language_info": {
   "codemirror_mode": {
    "name": "ipython",
    "version": 3
   },
   "file_extension": ".py",
   "mimetype": "text/x-python",
   "name": "python",
   "nbconvert_exporter": "python",
   "pygments_lexer": "ipython3",
   "version": "3.10.6"
  }
 },
 "nbformat": 4,
 "nbformat_minor": 5
}
