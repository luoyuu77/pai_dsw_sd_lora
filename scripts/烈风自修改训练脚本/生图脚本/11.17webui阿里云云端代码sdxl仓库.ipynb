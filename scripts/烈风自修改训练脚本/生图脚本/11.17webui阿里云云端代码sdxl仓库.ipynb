{
 "cells": [
  {
   "cell_type": "markdown",
   "id": "1f4e347b-07f7-410b-b396-f7ee7aed6a54",
   "metadata": {},
   "source": [
    "# **基于Bilibili UP主：[秋葉aaaki]的阿里云webui脚本修改而来**"
   ]
  },
  {
   "cell_type": "markdown",
   "id": "5c7c18a9-537f-4220-809b-d5e466d67100",
   "metadata": {},
   "source": [
    "## 一、webui主体安装"
   ]
  },
  {
   "cell_type": "code",
   "execution_count": null,
   "id": "8c99ee40-1fa3-4339-a46c-8901970bb7f9",
   "metadata": {
    "tags": []
   },
   "outputs": [],
   "source": [
    "%cd /mnt/workspace/\n",
    "!git clone -b master https://gitcode.net/overbill1683/stable-diffusion-webui\n",
    "%cd stable-diffusion-webui\n",
    "!mkdir repositories\n",
    "%cd repositories\n",
    "!git clone \"https://gitcode.net/overbill1683/stablediffusion\" \"stable-diffusion-stability-ai\"\n",
    "!git clone \"https://gitcode.net/overbill1683/taming-transformers\" \"taming-transformers\"\n",
    "!git clone \"https://gitcode.net/overbill1683/k-diffusion\" \"k-diffusion\"\n",
    "!git clone \"https://gitcode.net/overbill1683/CodeFormer\" \"CodeFormer\"\n",
    "!git clone \"https://gitcode.net/overbill1683/BLIP\" \"BLIP\"\n",
    "!git clone \"https://gitcode.net/overbill1683/generative-models\" \"generative-models\"\n",
    "%cd /mnt/workspace/stable-diffusion-webui\n",
    "!wget -c https://github.moeyy.xyz/https://github.com/gluttony-10/1/blob/main/config.json\n",
    "!wget -c https://github.moeyy.xyz/https://github.com/gluttony-10/1/blob/main/styles.csv\n",
    "!mkdir -p  /root/.transparent-background\n",
    "!wget -c https://huggingface.sukaka.top/Gluttony10/1/resolve/main/config.yaml   /root/.transparent-background\n",
    "!wget -c https://huggingface.sukaka.top/Gluttony10/1/resolve/main/ckpt_base.pth /root/.transparent-background\n",
    "!mkdir -p /usr/local/lib/python3.10/dist-packages/gradio\n",
    "!wget -c https://huggingface.sukaka.top/Gluttony10/1/resolve/main/frpc_linux_amd64_v0.2 -O /usr/local/lib/python3.10/dist-packages/gradio/frpc_linux_amd64_v0.2\n",
    "!chmod 755 /usr/local/lib/python3.10/dist-packages/gradio/frpc_linux_amd64_v0.2"
   ]
  },
  {
   "cell_type": "markdown",
   "id": "68673190-2200-44f1-bd54-1bd7b7f7c080",
   "metadata": {},
   "source": [
    "### （依赖安装）"
   ]
  },
  {
   "cell_type": "code",
   "execution_count": null,
   "id": "386de67f-76cb-4836-952f-778ec0799bbf",
   "metadata": {
    "ExecutionIndicator": {
     "show": true
    },
    "tags": []
   },
   "outputs": [],
   "source": [
    "# 安装解压软件和下载存储工具\n",
    "!apt-get update > /dev/null 2>&1 \n",
    "!apt-get install -y zip aria2 > /dev/null 2>&1\n",
    "!echo \"全部成功\""
   ]
  },
  {
   "cell_type": "markdown",
   "id": "3acf3b21-d668-4a2c-9d18-d969c3c9e025",
   "metadata": {
    "tags": []
   },
   "source": [
    "## 二、webui插件安装（可自行加入或替换插件）"
   ]
  },
  {
   "cell_type": "code",
   "execution_count": null,
   "id": "b3949806-d32e-48db-8b7c-2debafe1d565",
   "metadata": {
    "tags": []
   },
   "outputs": [],
   "source": [
    "## 安装常用插件\n",
    "extensions = [\n",
    "    \"https://github.com/sdbds/stable-diffusion-webui-wildcards\",\n",
    "    \"https://github.com/d8ahazard/sd_dreambooth_extension\",\n",
    "    \"https://github.com/tzwm/sd-webui-model-downloader-cn\",\n",
    "]\n",
    "%cd /mnt/workspace/stable-diffusion-webui\n",
    "\n",
    "for e in extensions:\n",
    "    proxied_url = \"https://github.moeyy.xyz/\" + e\n",
    "    !git -C \"extensions\" clone {proxied_url}"
   ]
  },
  {
   "cell_type": "code",
   "execution_count": null,
   "id": "c8ae71f4-e6df-40dd-919b-25bfeda86590",
   "metadata": {
    "tags": []
   },
   "outputs": [],
   "source": [
    "## 安装常用插件\n",
    "extensions = [\n",
    "\"https://gitcode.net/ranting8323/sd-webui-controlnet\",\n",
    "\"https://gitcode.net/overbill1683/stable-diffusion-webui-localization-zh_Hans\",\n",
    "\"https://gitcode.net/ranting8323/multidiffusion-upscaler-for-automatic1111\",\n",
    "\"https://gitcode.net/ranting8323/stable-diffusion-webui-images-browser\",\n",
    "\"https://gitcode.net/ranting8323/adetailer\",\n",
    "\"https://gitcode.net/ranting8323/sd-webui-prompt-all-in-one\",\n",
    "\"https://gitcode.net/ranting8323/sd-webui-inpaint-anything\",\n",
    "\"https://gitcode.net/ranting8323/a1111-sd-webui-tagcomplete\",\n",
    "]\n",
    "%cd /mnt/workspace/stable-diffusion-webui\n",
    "\n",
    "for e in extensions:\n",
    "    proxied_url =  e\n",
    "    !git -C \"extensions\" clone {proxied_url}"
   ]
  },
  {
   "cell_type": "markdown",
   "id": "e791a466-55e0-4a15-9d2e-05ee8a6130a5",
   "metadata": {},
   "source": [
    "## 三、启动webUI（点击蓝色链接http//0.0.0.0:7860进入webui大多数时候重启加重新执行可以解决大部分问题Thanks♪(･ω･)ﾉ）"
   ]
  },
  {
   "cell_type": "code",
   "execution_count": 29,
   "id": "461ae938-cf9e-4703-9726-77284e406346",
   "metadata": {
    "ExecutionIndicator": {
     "show": true
    },
    "execution": {
     "iopub.execute_input": "2023-11-17T14:41:19.815331Z",
     "iopub.status.busy": "2023-11-17T14:41:19.814828Z",
     "iopub.status.idle": "2023-11-17T14:41:19.819370Z",
     "shell.execute_reply": "2023-11-17T14:41:19.818904Z",
     "shell.execute_reply.started": "2023-11-17T14:41:19.815311Z"
    },
    "tags": []
   },
   "outputs": [],
   "source": [
    "import os\n",
    "package_envs = [\n",
    "    {\"env\": \"STABLE_DIFFUSION_REPO\", \"url\": os.environ.get('STABLE_DIFFUSION_REPO', \"https://gitcode.net/overbill1683/stablediffusion\")},\n",
    "    {\"env\": \"STABLE_DIFFUSION_XL_REPO\", \"url\": os.environ.get('STABLE_DIFFUSION_XL_REPO', \"https://gitcode.net/overbill1683/generative-models\")},\n",
    "    {\"env\": \"K_DIFFUSION_REPO\", \"url\": os.environ.get('K_DIFFUSION_REPO', \"https://gitcode.net/overbill1683/k-diffusion\")},\n",
    "    {\"env\": \"CODEFORMER_REPO\", \"url\": os.environ.get('CODEFORMER_REPO', \"https://gitcode.net/overbill1683/CodeFormer\")},\n",
    "    {\"env\": \"BLIP_REPO\", \"url\": os.environ.get('BLIP_REPO', \"https://gitcode.net/overbill1683/BLIP\")},\n",
    "]\n",
    "os.environ[\"PIP_INDEX_URL\"] = \"https://mirrors.aliyun.com/pypi/simple/\"\n",
    "for i in package_envs:\n",
    "    os.environ[i[\"env\"]] = i[\"url\"]"
   ]
  },
  {
   "cell_type": "code",
   "execution_count": null,
   "id": "2ba8770b-4b4e-427f-be8b-f4db972c0626",
   "metadata": {
    "tags": []
   },
   "outputs": [],
   "source": [
    "%cd /mnt/workspace/stable-diffusion-webui\n",
    "!python launch.py --api --no-download-sd-model --opt-sdp-attention --share --listen --enable-insecure-extension-access"
   ]
  },
  {
   "cell_type": "markdown",
   "id": "3f205fbf-8ee1-48a5-a2af-02e6ce1f6755",
   "metadata": {},
   "source": [
    "##  四、查看剩余内存空间（超出空间会导致实例打不开，所以谨慎下载模型，总容量为100g。以下代码可以查看剩余容量，请随时确认自己的剩余容量，避免实例爆炸）"
   ]
  },
  {
   "cell_type": "code",
   "execution_count": null,
   "id": "e00dcf4e-7cc3-4035-bacc-88c35350110b",
   "metadata": {
    "tags": []
   },
   "outputs": [],
   "source": [
    "import subprocess\n",
    "# 执行命令并解析输出\n",
    "command = \"df -h /mnt/workspace\"\n",
    "result = subprocess.check_output(command, shell=True, text=True)\n",
    "data = result.split('\\n')[1].split()\n",
    "# 提取空间信息\n",
    "文件系统, 总共, 已使用, 剩余 = data[0], data[1], data[2], float(data[3][:-1])\n",
    "# 定义ANSI转义码\n",
    "BOLD, RED, RESET = \"\\033[1m\", \"\\033[31m\", \"\\033[0m\"\n",
    "# 输出信息\n",
    "print(f\"{BOLD}文件系统: {文件系统}{RESET}\")\n",
    "print(f\"{BOLD}总共空间: {总共}{RESET}\")\n",
    "print(f\"{BOLD}已使用空间: {已使用}{RESET}\")\n",
    "# 检查剩余空间并输出相应信息\n",
    "if 剩余 < 20:\n",
    "    print(f\"{BOLD}{RED}磁盘空间不足20GB，请及时处理！{RESET}\")\n",
    "else:\n",
    "    print(f\"磁盘空间充足，剩余空间为 {剩余} GB\")"
   ]
  }
 ],
 "metadata": {
  "kernelspec": {
   "display_name": "Python 3 (ipykernel)",
   "language": "python",
   "name": "python3"
  },
  "language_info": {
   "codemirror_mode": {
    "name": "ipython",
    "version": 3
   },
   "file_extension": ".py",
   "mimetype": "text/x-python",
   "name": "python",
   "nbconvert_exporter": "python",
   "pygments_lexer": "ipython3",
   "version": "3.8.12"
  }
 },
 "nbformat": 4,
 "nbformat_minor": 5
}
