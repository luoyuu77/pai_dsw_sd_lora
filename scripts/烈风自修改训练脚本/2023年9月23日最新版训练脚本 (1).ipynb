{
 "cells": [
  {
   "cell_type": "markdown",
   "id": "32bf4400-ac9d-4502-9304-404275c1fbf2",
   "metadata": {},
   "source": [
    "# **基于Bilibili UP主：[秋葉aaaki]发布的[保姆式LoRA模型一键包文件](https://www.bilibili.com/video/BV1fs4y1x7p2/)**\n",
    "最核心的文件的整合代码均由主要作者[秋葉aaaki](https://github.com/Akegarasu/lora-scripts)完成。\n",
    "开始前**建议阅读**：\n",
    "1.   [保姆式LoRA模型一键包文件](https://www.bilibili.com/video/BV1AL411q7Ub/?spm_id_from=333.337.search-card.all.click&vd_source=e6294619bd5137ea0025a3d001e715a7)\n",
    "2.   [参数心得](https://www.bilibili.com/video/BV1GM411E7vk/)\n",
    "3.   [训练教程](https://www.bilibili.com/video/BV1fs4y1x7p2/?spm_id_from=333.999.0.0)\n",
    "4.   [阿里云部署教程](https://www.bilibili.com/video/BV1fs4y1x7p2/?spm_id_from=333.999.0.0)\n",
    ">\n",
    "本人只是完成阿里云下的依赖安装，使用的下载源不保证长期有效。\n",
    "更新内容：\n",
    "可以sdxl训练了\n",
    "已经完成了秋叶于阿里云的web部署，金字塔噪声，分层训练，梯度都可以使用了\n",
    "神童优化器可以使用了\n",
    "\n",
    "根据其它群友的意见对代码进行了升级\n",
    "\n",
    "训练包版本为2023年9月份秋叶最新版\n",
    "\n",
    "已突破抱脸封锁，所有文件均不使用抱脸下载，不会再出现下载失败的情况了，"
   ]
  },
  {
   "cell_type": "markdown",
   "id": "6100cc74-b843-4f6f-af9c-6b7c5ca41559",
   "metadata": {},
   "source": [
    "## 一、基础依赖和训练包拉取(时间会更长)"
   ]
  },
  {
   "cell_type": "code",
   "execution_count": null,
   "id": "6f51a87c-9a55-4558-a3bb-53c89a262184",
   "metadata": {},
   "outputs": [],
   "source": [
    "#查看是什么GPU\n",
    "!nvidia-smi\n",
    "#安装解压软件和下载存储工具\n",
    "!apt-get update  > /dev/null 2>&1 \n",
    "!apt-get install zip -y > /dev/null 2>&1\n",
    "!apt install -y aria2 > /dev/null 2>&1 && echo 全部成功"
   ]
  },
  {
   "cell_type": "code",
   "execution_count": null,
   "id": "398f19e5-1e8f-4a07-8a14-2edf3aa9a9f6",
   "metadata": {},
   "outputs": [],
   "source": [
    "%cd  /mnt/workspace/\n",
    "!git clone  https://ghproxy.com/https://github.com/taiczhi/liefeng.git\n",
    "!mv /mnt/workspace/liefeng/* /mnt/workspace/\n",
    "!rm -r /mnt/workspace/liefeng/\n",
    "!cd /mnt/workspace/lora-scripts/huggingface/ && wget -c https://liblibai-online.vibrou.com/web/model/c52a9848ee316e16b59a0fe17e17edc4c767f97f652b439d9da758d6077160ae.ckpt  -O 1.zip\n",
    "!unzip /mnt/workspace/lora-scripts/huggingface/1.zip -d /mnt/workspace/lora-scripts/huggingface/ > /dev/null 2>&1 && echo 解压成功\n",
    "!sudo rm -r /mnt/workspace/lora-scripts/huggingface/1.zip   > /dev/null 2>&1  && echo 删除压缩包成功\n",
    "!mkdir -p /mnt/workspace/lora-scripts/train/aki\n",
    "!mkdir -p /mnt/workspace/lora-scripts/train/reg"
   ]
  },
  {
   "cell_type": "code",
   "execution_count": null,
   "id": "a4ededea-dc18-4aa1-802b-3ebc155509a4",
   "metadata": {},
   "outputs": [],
   "source": [
    "#安装依赖\n",
    "!pip -q install torch==2.0.1 torchvision xformers triton \n",
    "!pip -q install xformers==0.0.21\n",
    "!pip -q install torchvision==0.15.2\n",
    "#进入目录\n",
    "%cd /mnt/workspace/lora-scripts/sd-scripts/\n",
    "#安装目录要求依赖\n",
    "!pip -q  install --upgrade -r requirements.txt && echo 安装需求依赖成功\n",
    "%cd /mnt/workspace/lora-scripts/\n",
    "!pip  install --upgrade rich\n",
    "!pip  install --upgrade fastapi==0.95.1\n",
    "!pip  install --upgrade uvicorn==0.22.0\n",
    "!pip  install --upgrade lion-pytorch==0.1.2\n",
    "!pip  install --upgrade lycoris-lora==1.9.0.dev11\n",
    "!pip  install --upgrade prodigyopt==1.0\n",
    "!pip  install --upgrade dadaptation==3.1\n",
    "!pip  install --upgrade wandb==0.15.8\n",
    "!pip  install --upgrade safetensors==0.3.1\n",
    "!pip  install --upgrade bitsandbytes==0.41.1\n",
    "!pip  install --upgrade pandas\n",
    "!pip  install --upgrade scipy\n",
    "!pip uninstall -y tensorboard tb-nightly \n",
    "!pip install tb-nightly "
   ]
  },
  {
   "cell_type": "code",
   "execution_count": null,
   "id": "306e7f00-100c-4582-a0e6-3668c9264213",
   "metadata": {},
   "outputs": [],
   "source": [
    "# 检查显卡\n",
    "import torch\n",
    "print('CUDA版本:',torch.version.cuda)\n",
    "print('Pytorch版本:',torch.__version__)\n",
    "print('显卡是否可用:','可用' if(torch.cuda.is_available()) else '不可用')\n",
    "print('显卡数量:',torch.cuda.device_count())\n",
    "print('是否支持BF16数字格式:','支持' if (torch.cuda.is_bf16_supported()) else '不支持不能训练sdxl')\n",
    "print('当前显卡型号:',torch.cuda.get_device_name())\n",
    "print('当前显卡的CUDA算力:',torch.cuda.get_device_capability())\n",
    "print('当前显卡的总显存:',torch.cuda.get_device_properties(0).total_memory/1024/1024/1024,'GB')\n",
    "print('是否支持TensorCore:','支持' if (torch.cuda.get_device_properties(0).major >= 7) else '不支持')\n",
    "print('当前显卡的显存使用率:',torch.cuda.memory_allocated(0)/torch.cuda.get_device_properties(0).total_memory*100,'%')"
   ]
  },
  {
   "cell_type": "markdown",
   "id": "656c6f44-297e-45a0-b688-72d08f82972f",
   "metadata": {},
   "source": [
    "## 二、模型下载（可自行改变路径）"
   ]
  },
  {
   "cell_type": "markdown",
   "id": "72c22951-d095-4a52-ba82-c8cdb69339e0",
   "metadata": {},
   "source": [
    "### 只修改下方链接即可替换底膜  \n",
    "\n",
    "默认底膜：是青龙sdxl1.0底膜base"
   ]
  },
  {
   "cell_type": "code",
   "execution_count": null,
   "id": "dbffeccc-e014-4411-b34a-751d65f317a4",
   "metadata": {},
   "outputs": [],
   "source": [
    "!cd /mnt/workspace/lora-scripts/sd-models/ && wget -c  https://liblibai-online.vibrou.com/web/model/1fa5725f4fe0a5fae0a840ea23725e3381213951e012aa39c3c9b70882c57015.safetensors -O down.safetensors && echo 下载成功 #下载底部模型"
   ]
  },
  {
   "cell_type": "markdown",
   "id": "c038298c-93db-4a45-be79-3d19f9aca101",
   "metadata": {},
   "source": [
    "#### 常用模型下载\n",
    "\n",
    "其它底膜链接：\n",
    "\n",
    "Chilloutmix-Ni-pruned-fp32-fix：https://liblibai-online.vibrou.com/models/e7e55f800035004cf0ee31d91f874a415a2b64a4.safetensors\n",
    "\n",
    "模型路径:/mnt/workspace/lora-scripts/sd-models/\n",
    " \n",
    "麦橘v6版本模型:  \n",
    "\n",
    "https://liblibai-online.vibrou.com/web/model/e4a30e4607faeb06b5d590b2ed8e092690c631da0b2becb6224d4bb5327104b7.safetensors \n",
    "\n",
    "模型路径:/mnt/workspace/lora-scripts/sd-models/\n",
    "\n",
    "mix全能模型\n",
    "\n",
    "https://liblibai-online.vibrou.com/web/model/f8bb2922e1dc877dc0d33ed9b9dbbdba612b8b37711cbe17d803dbc92dd65b78.safetensors \n",
    "\n",
    "模型路径:/mnt/workspace/lora-scripts/sd-models/\n",
    "\n",
    "娜乌斯嘉lora模型\n",
    "\n",
    "https://liblibai-online.vibrou.com/web/model/c932413949a815fc64378ffa6ec34944597c5ff57cd98541347c4107106fd5d5.safetensors \n",
    "\n",
    "模型路径:/mnt/workspace/lora-scripts/sd-models/\n",
    "\n",
    "\n",
    "国风3\n",
    "\n",
    "https://liblibai-online.vibrou.com/web/model/a83e25fe5b70bad595fe4dd6733ee35f0e3ddf8ed4041ab360f9573556e8b3e6.safetensors\n",
    " \n",
    "模型路径:/mnt/workspace/lora-scripts/sd-models/\n",
    "\n",
    "官方sdxl模型base:  \n",
    "\n",
    "https://www.wisemodel.cn/file-proxy/LiuDQ/stable-diffusion-xl-base-1.0-stabilityai/-/raw/main/sd_xl_base_1.0.safetensors?inline=false\n",
    "\n",
    "模型路径:/mnt/workspace/lora-scripts/sd-models/\n",
    "\n",
    "硬纸板画模型\n",
    "\n",
    "https://liblibai-online.vibrou.com/web/model/250cfc80d41deba9699d9c8964a8d255ef71202dba821bb18adb4760ec0a44db.safetensors\n",
    "\n",
    "模型路径:/mnt/workspace/lora-scripts/sd-models/\n",
    "\n",
    "可爱手办模型\n",
    "\n",
    "https://liblibai-online.vibrou.com/web/model/39d6af08b2b67736eedac9b52f22c624fab7cc4a99c51a05a05f605f9fc43a5b.safetensors \n",
    "\n",
    "模型路径:/mnt/workspace/lora-scripts/sd-models/\n",
    "\n",
    "sd1.5基础模型：\n",
    "\n",
    "https://www.wisemodel.cn/file-proxy/LiuDQ/stable-diffusion-v1.5-runwayml/-/raw/main/v1-5-pruned.safetensors?inline=false\n",
    "\n",
    "模型路径:/mnt/workspace/lora-scripts/sd-models/"
   ]
  },
  {
   "cell_type": "markdown",
   "id": "829f7d77-5764-4a54-85ae-830bf1986ac2",
   "metadata": {},
   "source": [
    "## 三、训练集下载（可自行改变路径）"
   ]
  },
  {
   "cell_type": "markdown",
   "id": "4ca26d47-9897-4662-87a9-864c555d2379",
   "metadata": {},
   "source": [
    "### 只修改下方wget -c链接之后即可替换数据集"
   ]
  },
  {
   "cell_type": "code",
   "execution_count": null,
   "id": "a2a3cea1-3dcb-479f-97a3-d1a7dba00ca9",
   "metadata": {},
   "outputs": [],
   "source": [
    "!cd /mnt/workspace/lora-scripts/train/aki/  && wget -c        -O 1.zip > /dev/null 2>&1 && echo 下载成功 #下载训练集"
   ]
  },
  {
   "cell_type": "code",
   "execution_count": null,
   "id": "13cf20b9-4652-4dd0-910e-5c7afccd2518",
   "metadata": {},
   "outputs": [],
   "source": [
    "!unzip /mnt/workspace/lora-scripts/train/aki/1.zip -d /mnt/workspace/lora-scripts/train/aki/ > /dev/null 2>&1 && echo 解压成功   #解压训练集压缩包\n",
    "!sudo rm -r /mnt/workspace/lora-scripts/train/aki/1.zip  > /dev/null 2>&1  && echo 删除压缩包成功 #删除训练集压缩包"
   ]
  },
  {
   "cell_type": "markdown",
   "id": "478c823e-9485-43d3-b837-113d517dbca9",
   "metadata": {},
   "source": [
    "## 四、启动秋葉aaaki的一键式lora训练界面"
   ]
  },
  {
   "cell_type": "code",
   "execution_count": null,
   "id": "478e1567-2c75-47f4-9aca-ec8628e1bfe7",
   "metadata": {},
   "outputs": [],
   "source": [
    "%cd /mnt/workspace/lora-scripts    \n",
    "#跳转到UI文件\n",
    "!bash run_gui.sh #界面文件点击127.0。0.0.1即可进入ui"
   ]
  }
 ],
 "metadata": {
  "kernelspec": {
   "display_name": "Python 3 (ipykernel)",
   "language": "python",
   "name": "python3"
  },
  "language_info": {
   "codemirror_mode": {
    "name": "ipython",
    "version": 3
   },
   "file_extension": ".py",
   "mimetype": "text/x-python",
   "name": "python",
   "nbconvert_exporter": "python",
   "pygments_lexer": "ipython3",
   "version": "3.10.6"
  }
 },
 "nbformat": 4,
 "nbformat_minor": 5
}
