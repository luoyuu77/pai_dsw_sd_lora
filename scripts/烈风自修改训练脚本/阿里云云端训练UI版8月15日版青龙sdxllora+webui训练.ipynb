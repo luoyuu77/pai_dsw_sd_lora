{
 "cells": [
  {
   "cell_type": "markdown",
   "id": "5562b34d-2bf7-4dca-b84f-388dade30ca6",
   "metadata": {
    "execution": {
     "iopub.execute_input": "2023-06-22T10:33:21.105121Z",
     "iopub.status.busy": "2023-06-22T10:33:21.104791Z",
     "iopub.status.idle": "2023-06-22T10:33:21.113356Z",
     "shell.execute_reply": "2023-06-22T10:33:21.112632Z",
     "shell.execute_reply.started": "2023-06-22T10:33:21.105102Z"
    },
    "tags": []
   },
   "source": [
    "# **基于Bilibili UP主：[秋葉aaaki]发布的[保姆式LoRA模型一键包文件](https://www.bilibili.com/video/BV1fs4y1x7p2/)**\n",
    "最核心的文件的整合代码均由主要作者[秋葉aaaki](https://github.com/Akegarasu/lora-scripts)完成。\n",
    "开始前**建议阅读**：\n",
    "1.   [保姆式LoRA模型一键包文件](https://www.bilibili.com/video/BV1AL411q7Ub/?spm_id_from=333.337.search-card.all.click&vd_source=e6294619bd5137ea0025a3d001e715a7)\n",
    "2.   [参数心得](https://www.bilibili.com/video/BV1GM411E7vk/)\n",
    "3.   [训练教程](https://www.bilibili.com/video/BV1fs4y1x7p2/?spm_id_from=333.999.0.0)\n",
    "4.   [阿里云部署教程](https://www.bilibili.com/video/BV1fs4y1x7p2/?spm_id_from=333.999.0.0)\n",
    "> 本人只是完成阿里云下的依赖安装，使用的下载源不保证长期有效。本人对python与linux的使用能力有限，代码在各位大佬的指导和WSH032大佬于colab的依赖代码修改下完成，不足部分，有兴趣者可修改并分享。\n",
    "\n",
    "> *--分享的责任与获取的自由*\n",
    "**待解决问题**:\n",
    "\n",
    "> 1.关于数据集的挂载免费领用的教程，我这边没有相应教程如有需要可自行解决\n",
    "\n",
    "> 2.总是有人说觉得阿里云的环境有问题比本地更容易欠拟或者过拟，不知道是少了哪一步。\n",
    "\n",
    "更新内容：\n",
    "可以sdxl训练了\n",
    "已经完成了秋叶于阿里云的web部署，金字塔噪声，分层训练，梯度都可以使用了\n",
    "神童优化器可以使用了\n",
    "采用了群友指月的修复代码，现已解决了张量版\n",
    "\n",
    "根据其它群友的意见对代码进行了升级\n",
    "\n",
    "训练包版本为2023年8月12日秋叶最新版\n",
    "\n",
    "已突破抱脸封锁，所有文件均不使用抱脸下载，不会再出现下载失败的情况了，"
   ]
  },
  {
   "cell_type": "markdown",
   "id": "0acc7194-66e2-4556-a910-263ea9ab17b7",
   "metadata": {},
   "source": [
    "## 一、基础依赖和训练包拉取(时间会更长)"
   ]
  },
  {
   "cell_type": "code",
   "execution_count": null,
   "id": "ad9a434f-8e3f-4c3a-89f0-335d19a4364f",
   "metadata": {
    "ExecutionIndicator": {
     "show": false
    },
    "tags": []
   },
   "outputs": [],
   "source": [
    "#查看是什么GPU\n",
    "!nvidia-smi\n",
    "#安装解压软件和下载存储工具\n",
    "!apt-get update  > /dev/null 2>&1 \n",
    "!apt-get install zip -y > /dev/null 2>&1\n",
    "!apt install -y aria2 > /dev/null 2>&1 && echo 全部成功"
   ]
  },
  {
   "cell_type": "code",
   "execution_count": null,
   "id": "26c4f3e4-bf58-44da-947b-193b624cb4f6",
   "metadata": {
    "ExecutionIndicator": {
     "show": true
    },
    "tags": []
   },
   "outputs": [],
   "source": [
    "%cd  /mnt/workspace/\n",
    "!git clone -b v8.15qing  https://ghproxy.com/https://github.com/taiczhi/lora-scripts.git\n",
    "!cd /mnt/workspace/lora-scripts/huggingface/ && wget -c https://liblibai-online.vibrou.com/web/model/c52a9848ee316e16b59a0fe17e17edc4c767f97f652b439d9da758d6077160ae.ckpt  -O 1.zip\n",
    "!unzip /mnt/workspace/lora-scripts/huggingface/1.zip -d /mnt/workspace/lora-scripts/huggingface/ > /dev/null 2>&1 && echo 解压成功\n",
    "!sudo rm -r /mnt/workspace/lora-scripts/huggingface/1.zip   > /dev/null 2>&1  && echo 删除压缩包成功\n",
    "!mkdir -p /mnt/workspace/lora-scripts/train/aki\n",
    "!mkdir -p /mnt/workspace/lora-scripts/train/reg"
   ]
  },
  {
   "cell_type": "code",
   "execution_count": null,
   "id": "0280fe4f-3446-4afb-b278-37fdc143c8ec",
   "metadata": {
    "tags": []
   },
   "outputs": [],
   "source": [
    "#安装依赖\n",
    "!pip -q install torch==2.0.1 torchvision xformers triton \n",
    "#进入目录\n",
    "%cd /mnt/workspace/lora-scripts/sd-scripts/\n",
    "#安装目录要求依赖\n",
    "!pip -q  install --upgrade -r requirements.txt && echo 安装需求依赖成功\n",
    "#安装训练指示器\n",
    "!pip -q install --upgrade lion-pytorch lycoris-lora dadaptation prodigyopt fastapi uvicorn wandb  && echo 安装训练器成功\n",
    "!pip install --upgrade --no-deps pytorch-optimizer -i https://mirror.baidu.com/pypi/simple\n",
    "#进行bitsandbytes的重装\n",
    "!pip uninstall -q bitsandbytes -y > /dev/null 2>&1 && echo 卸载成功\n",
    "!pip install bitsandbytes==0.41.1 --no-deps --prefer-binary --extra-index-url=https://jllllll.github.io/bitsandbytes-windows-webui --force > /dev/null 2>&1    && echo 安装成功\n",
    "!pip uninstall -y tensorboard tb-nightly > /dev/null 2>&1 echo 卸载成功\n",
    "!pip install tensorboard > /dev/null 2>&1 echo 安装成功\n",
    "!pip install tb-nightly  > /dev/null 2>&1 echo 安装成功 /dev/null 2>&1 echo 所有依赖全部安装成功"
   ]
  },
  {
   "cell_type": "markdown",
   "id": "b460fc87-bae2-45fc-9c19-f3280c1efc68",
   "metadata": {
    "tags": []
   },
   "source": [
    "## 二、模型下载（可自行改变路径）"
   ]
  },
  {
   "cell_type": "markdown",
   "id": "7c3deebc-9479-4c53-9027-a4d7b226048d",
   "metadata": {
    "tags": []
   },
   "source": [
    "### 只修改下方链接即可替换底膜  \n",
    "\n",
    "默认底膜：是青龙sdxl1.0底膜base"
   ]
  },
  {
   "cell_type": "code",
   "execution_count": null,
   "id": "ebd307c0-2d3a-49aa-915c-655f2d5640c2",
   "metadata": {
    "ExecutionIndicator": {
     "show": true
    },
    "tags": []
   },
   "outputs": [],
   "source": [
    "!cd /mnt/workspace/lora-scripts/sd-models/ && wget -c  https://liblibai-online.vibrou.com/web/model/1fa5725f4fe0a5fae0a840ea23725e3381213951e012aa39c3c9b70882c57015.safetensors -O down.safetensors && echo 下载成功 #下载底部模型"
   ]
  },
  {
   "cell_type": "markdown",
   "id": "3f763aa9-b314-4ef8-91a1-68e7391a3570",
   "metadata": {},
   "source": [
    "#### 常用模型下载\n",
    "默认底膜：Chilloutmix-Ni-pruned-fp32-fix\n",
    "https://liblibai-online.vibrou.com/models/e7e55f800035004cf0ee31d91f874a415a2b64a4.safetensors\n",
    "\n",
    "其它底膜链接：\n",
    "\n",
    "https://liblibai-online.vibrou.com/web/model/e4a30e4607faeb06b5d590b2ed8e092690c631da0b2becb6224d4bb5327104b7.safetensors majicMIX realistic\n",
    "\n",
    "https://liblibai-online.vibrou.com/web/model/e4a30e4607faeb06b5d590b2ed8e092690c631da0b2becb6224d4bb5327104b7.safetensors 麦橘v6版本模型\n",
    "\n",
    "https://liblibai-online.vibrou.com/web/model/f8bb2922e1dc877dc0d33ed9b9dbbdba612b8b37711cbe17d803dbc92dd65b78.safetensors mix全能模型\n",
    "\n",
    "https://liblibai-online.vibrou.com/web/model/c932413949a815fc64378ffa6ec34944597c5ff57cd98541347c4107106fd5d5.safetensors 娜乌斯嘉lora模型\n",
    "\n",
    "官方sdxl模型base:  \n",
    "\n",
    "https://www.wisemodel.cn/file-proxy/LiuDQ/stable-diffusion-xl-base-1.0-stabilityai/-/raw/main/sd_xl_base_1.0.safetensors?inline=false\n",
    "\n",
    "模型路径:/mnt/workspace/lora-scripts/sd-models/\n",
    "\n",
    "青龙修复底膜\n",
    "https://liblibai-online.vibrou.com/web/model/1fa5725f4fe0a5fae0a840ea23725e3381213951e012aa39c3c9b70882c57015.safetensors\n",
    "\n",
    "sd1.5基础模型：\n",
    "\n",
    "https://www.wisemodel.cn/file-proxy/LiuDQ/stable-diffusion-v1.5-runwayml/-/raw/main/v1-5-pruned.safetensors?inline=false\n",
    "\n",
    "模型路径:/mnt/workspace/lora-scripts/sd-models/"
   ]
  },
  {
   "cell_type": "markdown",
   "id": "aa8ba6cd-ef5c-409a-a8cf-18b6e39f815e",
   "metadata": {
    "tags": []
   },
   "source": [
    "## 三、训练集下载（可自行改变路径）"
   ]
  },
  {
   "cell_type": "markdown",
   "id": "caaf8e7b-5e0d-4541-a55b-12a0f3ceeb99",
   "metadata": {
    "tags": []
   },
   "source": [
    "### 只修改下方链接即可替换数据集"
   ]
  },
  {
   "cell_type": "code",
   "execution_count": null,
   "id": "ad695e1c-7e7c-4a7a-984f-debce56c0460",
   "metadata": {},
   "outputs": [],
   "source": [
    "!cd /mnt/workspace/lora-scripts/train/aki/  && wget -c        -O 1.zip > /dev/null 2>&1 && echo 下载成功 #下载训练集"
   ]
  },
  {
   "cell_type": "code",
   "execution_count": null,
   "id": "8b5606c6-e783-49fa-a023-a13977a38566",
   "metadata": {},
   "outputs": [],
   "source": [
    "!unzip /mnt/workspace/lora-scripts/train/aki/1.zip -d /mnt/workspace/lora-scripts/train/aki/ > /dev/null 2>&1 && echo 解压成功   #解压训练集压缩包\n",
    "!sudo rm -r /mnt/workspace/lora-scripts/train/aki/1.zip  > /dev/null 2>&1  && echo 删除压缩包成功 #删除训练集压缩包"
   ]
  },
  {
   "cell_type": "markdown",
   "id": "760e3d08-5086-4f69-9456-8bfb00094ab8",
   "metadata": {},
   "source": [
    "## 四、启动青龙的一键式大模型训练界面"
   ]
  },
  {
   "cell_type": "code",
   "execution_count": null,
   "id": "dd97efcc-9936-4a23-a084-606822b87d48",
   "metadata": {},
   "outputs": [],
   "source": [
    "%cd /mnt/workspace/lora-scripts    \n",
    "!bash train_sdxldb.sh "
   ]
  },
  {
   "cell_type": "markdown",
   "id": "fe894ab8-89d6-41b2-9d9d-07c62472445a",
   "metadata": {},
   "source": [
    "## 五、启动青龙的一键式lora训练界面"
   ]
  },
  {
   "cell_type": "code",
   "execution_count": null,
   "id": "914d4ebe-a1fe-4942-bfe1-59543c5df2e1",
   "metadata": {},
   "outputs": [],
   "source": [
    "%cd /mnt/workspace/lora-scripts    \n",
    "!bash train_sdxllora.sh "
   ]
  }
 ],
 "metadata": {
  "kernelspec": {
   "display_name": "Python 3 (ipykernel)",
   "language": "python",
   "name": "python3"
  },
  "language_info": {
   "codemirror_mode": {
    "name": "ipython",
    "version": 3
   },
   "file_extension": ".py",
   "mimetype": "text/x-python",
   "name": "python",
   "nbconvert_exporter": "python",
   "pygments_lexer": "ipython3",
   "version": "3.10.6"
  }
 },
 "nbformat": 4,
 "nbformat_minor": 5
}
