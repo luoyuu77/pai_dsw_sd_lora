{
 "cells": [
  {
   "cell_type": "markdown",
   "id": "f6000663-49aa-4c0c-a386-1d2c168b028b",
   "metadata": {},
   "source": [
    "# 感谢青龙圣者和字节跳动的贡献\n",
    "\n",
    "\n",
    "https://www.bilibili.com/video/BV13b4y1j71m/?spm_id_from=333.337.search-card.all.click&vd_source=e6294619bd5137ea0025a3d001e715a7 （青龙视频）"
   ]
  },
  {
   "cell_type": "markdown",
   "id": "cdd8654f-0588-40e2-855f-96950315123e",
   "metadata": {},
   "source": [
    "# 一、进行包拉取和依赖安装"
   ]
  },
  {
   "cell_type": "code",
   "execution_count": null,
   "id": "6eca0f94-a733-4830-a906-b2cb5a5a8255",
   "metadata": {
    "tags": []
   },
   "outputs": [],
   "source": [
    "#查看是什么GPU\n",
    "!nvidia-smi\n",
    "#安装解压软件和下载存储工具\n",
    "!apt-get update  > /dev/null 2>&1 \n",
    "!apt-get install zip -y > /dev/null 2>&1\n",
    "!apt install -y aria2 > /dev/null 2>&1 && echo 全部成功"
   ]
  },
  {
   "cell_type": "markdown",
   "id": "4eab9972-a0c7-43ee-b3a6-66b547807d1e",
   "metadata": {},
   "source": [
    "## 拉取主体"
   ]
  },
  {
   "cell_type": "code",
   "execution_count": null,
   "id": "e760c751-d52f-400c-935e-17bbbd11f596",
   "metadata": {
    "ExecutionIndicator": {
     "show": true
    },
    "tags": []
   },
   "outputs": [],
   "source": [
    "%cd /mnt/workspace/\n",
    "!rm -r  /mnt/workspace/magic-animate-hf\n",
    "!git clone https://gitee.com/taichuzhishi/magic-animate-hf.git\n",
    "%cd /mnt/workspace/magic-animate-hf\n",
    "!bash install.bash"
   ]
  },
  {
   "cell_type": "markdown",
   "id": "6a8c4224-fe00-44fb-bfe2-4cdce8d7f5b6",
   "metadata": {},
   "source": [
    "# 二、启动"
   ]
  },
  {
   "cell_type": "markdown",
   "id": "12db25a5-52ef-41ba-a531-37793af62d17",
   "metadata": {},
   "source": [
    "## AI转视频启动（magic-animate）#  最后输出的视频的文件夹的位置 /mnt/workspace/MagicAnimate-hf/demo/outputs/  # 启动UI界面蓝色链接最好选择第二个   第一个有bug"
   ]
  },
  {
   "cell_type": "code",
   "execution_count": null,
   "id": "554d3a25-e3f4-468a-80d5-2b907f43f0e7",
   "metadata": {
    "tags": []
   },
   "outputs": [],
   "source": [
    "%cd /mnt/workspace/magic-animate-hf\n",
    "!bash run_gui.bash"
   ]
  },
  {
   "cell_type": "markdown",
   "id": "723b459c-49e8-4d1f-8b9c-d4b2450db8ef",
   "metadata": {},
   "source": [
    "## 视频转骨骼蒙版启动（VidControlnetAux_gu） 最后输出的视频的文件夹的位置 /mnt/workspace/magic-animate-hf/outputs/  # 启动UI界面蓝色链接最好选择第二个   第一个有bug"
   ]
  },
  {
   "cell_type": "code",
   "execution_count": null,
   "id": "f94fff37-98a4-4d84-b87d-93b92fe85a70",
   "metadata": {
    "tags": []
   },
   "outputs": [],
   "source": [
    "%cd /mnt/workspace/magic-animate-hf\n",
    "!bash run_VidControlnetAux_gui.bash"
   ]
  },
  {
   "cell_type": "markdown",
   "id": "556fde6f-132d-4c83-bfa0-00fc3597324f",
   "metadata": {},
   "source": [
    "# 三、用于使用模型的切换和使用（默认已经有了sd1.5的底膜，如不更换第三模块不用管也不能执行）"
   ]
  },
  {
   "cell_type": "markdown",
   "id": "bc84c293-5d77-45aa-830e-91a71e20e381",
   "metadata": {},
   "source": [
    "# 底膜可自行替换（同目录下只能有一种模型）你就管前三行就行"
   ]
  },
  {
   "cell_type": "code",
   "execution_count": null,
   "id": "e76239b9-707c-4375-a4ba-e1aab2fc6129",
   "metadata": {
    "ExecutionIndicator": {
     "show": true
    },
    "tags": []
   },
   "outputs": [],
   "source": [
    "模型链接 = \"\"  # 双引号内填模型下载地址\n",
    "模型命名及后缀 = \"model.safetensors\"  # 双引号内填模型命名及后缀\n",
    "下载路径 = \"/mnt/workspace/magic-animate-hf/stable-diffusion\"  # 双引号内填模型的下载路径\n",
    "\n",
    "# 下面的你都不用管你就看上面这三行改就行\n",
    "\n",
    "\n",
    "\n",
    "\n",
    "\n",
    "\n",
    "\n",
    "\n",
    "\n",
    "\n",
    "# 检查三个参数是否都不为空\n",
    "if 模型链接 and 模型命名及后缀 and 下载路径:\n",
    "    !mkdir -p \"{下载路径}\"\n",
    "    !cd \"{下载路径}\" && aria2c --console-log-level=error -c -x 16 -s 16 -k 1M \"{模型链接}\" -o \"{模型命名及后缀}\" && echo 下载成功\n",
    "\n",
    "    import yaml\n",
    "\n",
    "    # 读取配置文件\n",
    "    config_path = \"/mnt/workspace/magic-animate-hf/configs/prompts/animation.yaml\"\n",
    "    with open(config_path, 'r', encoding='utf-8') as file:\n",
    "        lines = file.readlines()\n",
    "\n",
    "    # 构建实际的模型文件路径\n",
    "    实际模型文件路径 = f\"{下载路径}/{模型命名及后缀}\"\n",
    "\n",
    "    # 查找需要修改的行\n",
    "    for i, line in enumerate(lines):\n",
    "        if \"pretrained_model_path\" in line:\n",
    "            lines[i] = f'pretrained_model_path: \"{实际模型文件路径}\"\\n'\n",
    "            break  # 找到后就停止查找\n",
    "\n",
    "    # 将修改后的行写回文件\n",
    "    with open(config_path, 'w', encoding='utf-8') as file:\n",
    "        file.writelines(lines)\n",
    "\n",
    "    print(\"配置文件已成功更新。\")\n",
    "else:\n",
    "    print(\"请提供模型链接、模型命名及后缀以及下载路径。\")\n"
   ]
  },
  {
   "cell_type": "markdown",
   "id": "20515dff-8c06-4d98-bc9f-30a47a8023c2",
   "metadata": {},
   "source": [
    "# vae（下载路径不填会默认不启用vae）你就管前三行就行"
   ]
  },
  {
   "cell_type": "code",
   "execution_count": null,
   "id": "a0dc3a61-cdc4-4c19-b11c-70b20fac6f20",
   "metadata": {
    "ExecutionIndicator": {
     "show": true
    },
    "tags": []
   },
   "outputs": [],
   "source": [
    "模型链接 = \"\"  # 替换为实际模型下载链接\n",
    "模型命名及后缀 = \"vae.safetensors\"  # 替换为实际模型命名及后缀\n",
    "下载路径 = \"/mnt/workspace/magic-animate-hf/vae\"  # 替换为实际下载路径\n",
    "\n",
    "# 下面的你都不用管你就看上面这三行改就行\n",
    "\n",
    "\n",
    "\n",
    "\n",
    "\n",
    "\n",
    "\n",
    "\n",
    "# 检查下载路径是否为空\n",
    "if 下载路径:\n",
    "    # 检查模型链接和模型命名及后缀是否都不为空\n",
    "    if 模型链接 and 模型命名及后缀:\n",
    "        # 创建下载路径\n",
    "        !mkdir -p \"{下载路径}\"\n",
    "\n",
    "        # 使用 aria2c 下载模型\n",
    "        !cd \"{下载路径}\" && aria2c --console-log-level=error -c -x 16 -s 16 -k 1M \"{模型链接}\" -o \"{模型命名及后缀}\" && echo 下载成功\n",
    "\n",
    "        import yaml\n",
    "\n",
    "        # 读取配置文件\n",
    "        配置文件路径 = \"/mnt/workspace/magic-animate-hf/configs/prompts/animation.yaml\"\n",
    "        with open(配置文件路径, 'r', encoding='utf-8') as 文件:\n",
    "            行列表 = 文件.readlines()\n",
    "\n",
    "        # 构建实际的模型文件路径\n",
    "        实际模型文件路径 = f\"{下载路径}/{模型命名及后缀}\"\n",
    "\n",
    "        # 查找需要修改的行\n",
    "        for i, 行 in enumerate(行列表):\n",
    "            if \"pretrained_vae_path\" in 行:\n",
    "                行列表[i] = f'pretrained_vae_path: \"{实际模型文件路径}\"\\n'\n",
    "                break  # 找到后就停止查找\n",
    "\n",
    "        # 将修改后的行写回文件\n",
    "        with open(配置文件路径, 'w', encoding='utf-8') as 文件:\n",
    "            文件.writelines(行列表)\n",
    "\n",
    "        print(\"配置文件已成功更新。\")\n",
    "\n",
    "    else:\n",
    "        print(\"未启用VAE，因为模型链接或模型命名及后缀为空，所以配置文件不更新.\")\n",
    "\n",
    "else:\n",
    "    # 读取配置文件\n",
    "    配置文件路径 = \"/mnt/workspace/magic-animate-hf/configs/prompts/animation.yaml\"\n",
    "    with open(配置文件路径, 'r', encoding='utf-8') as 文件:\n",
    "        行列表 = 文件.readlines()\n",
    "\n",
    "    # 构建实际的模型文件路径\n",
    "    实际模型文件路径 = f\"{下载路径}/{模型命名及后缀}\"\n",
    "\n",
    "    # 查找需要修改的行\n",
    "    for i, 行 in enumerate(行列表):\n",
    "        if \"pretrained_vae_path\" in 行:\n",
    "            行列表[i] = f'pretrained_vae_path: \"{实际模型文件路径}\"\\n'\n",
    "            break  # 找到后就停止查找\n",
    "\n",
    "    # 将修改后的行写回文件\n",
    "    with open(配置文件路径, 'w', encoding='utf-8') as 文件:\n",
    "        文件.writelines(行列表)\n",
    "\n",
    "    print(\"因为下载路径为空，所以默认不启用VAE，配置文件更新。\")\n"
   ]
  },
  {
   "cell_type": "markdown",
   "id": "e5ba7840-f0da-4327-841a-561ba5c9626e",
   "metadata": {},
   "source": [
    "##  四、查看剩余内存空间（超出空间会导致实例打不开，所以谨慎下载模型，总容量为100g。以下代码可以查看剩余容量，请随时确认自己的剩余容量，避免实例爆炸）"
   ]
  },
  {
   "cell_type": "code",
   "execution_count": null,
   "id": "b08ec945-ab17-4a18-9fe0-d884a8eb0f1e",
   "metadata": {},
   "outputs": [],
   "source": [
    "import subprocess\n",
    "# 执行命令并解析输出\n",
    "command = \"df -h /mnt/workspace\"\n",
    "result = subprocess.check_output(command, shell=True, text=True)\n",
    "data = result.split('\\n')[1].split()\n",
    "# 提取空间信息\n",
    "文件系统, 总共, 已使用, 剩余 = data[0], data[1], data[2], float(data[3][:-1])\n",
    "# 定义ANSI转义码\n",
    "BOLD, RED, RESET = \"\\033[1m\", \"\\033[31m\", \"\\033[0m\"\n",
    "# 输出信息\n",
    "print(f\"{BOLD}文件系统: {文件系统}{RESET}\")\n",
    "print(f\"{BOLD}总共空间: {总共}{RESET}\")\n",
    "print(f\"{BOLD}已使用空间: {已使用}{RESET}\")\n",
    "# 检查剩余空间并输出相应信息\n",
    "if 剩余 < 20:\n",
    "    print(f\"{BOLD}{RED}磁盘空间不足20GB，请及时处理！{RESET}\")\n",
    "else:\n",
    "    print(f\"磁盘空间充足，剩余空间为 {剩余} GB\")"
   ]
  }
 ],
 "metadata": {
  "kernelspec": {
   "display_name": "Python 3 (ipykernel)",
   "language": "python",
   "name": "python3"
  },
  "language_info": {
   "codemirror_mode": {
    "name": "ipython",
    "version": 3
   },
   "file_extension": ".py",
   "mimetype": "text/x-python",
   "name": "python",
   "nbconvert_exporter": "python",
   "pygments_lexer": "ipython3",
   "version": "3.10.6"
  }
 },
 "nbformat": 4,
 "nbformat_minor": 5
}
