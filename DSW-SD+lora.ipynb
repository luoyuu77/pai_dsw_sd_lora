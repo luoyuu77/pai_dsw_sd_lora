{
 "cells": [
  {
   "cell_type": "markdown",
   "id": "9fab4ab6-be4b-4206-ba12-8dad73bac833",
   "metadata": {
    "tags": []
   },
   "source": [
    "# 阿里云DSW 一键脚本 By bilibili@\n",
    "## 参考感谢——秋葉aaaki，十字鱼"
   ]
  },
  {
   "cell_type": "markdown",
   "id": "c709c869-a4e4-43b0-865b-10ea35bd3f77",
   "metadata": {},
   "source": [
    "基础环境：stable-diffusion-webui-develop:1.0-pytorch2.0-gpu-py310-cu117-ubuntu22.04\n",
    "- Python:3.10.12\n",
    "- CUDA: 11.7\n",
    "- Pytorch: 2.0.1+cu117\n",
    "- 显卡: NVIDIA A10\n"
   ]
  },
  {
   "cell_type": "markdown",
   "id": "fb8a4835-b5df-4b68-814a-fe99bcfaacd8",
   "metadata": {},
   "source": [
    "## 常用工具"
   ]
  },
  {
   "cell_type": "code",
   "execution_count": null,
   "id": "28d28216-c34c-4ae5-a4bc-cef3745ef414",
   "metadata": {},
   "outputs": [],
   "source": [
    "# 检查显卡\n",
    "import torch\n",
    "print('CUDA版本:',torch.version.cuda)\n",
    "print('Pytorch版本:',torch.__version__)\n",
    "print('显卡是否可用:','可用' if(torch.cuda.is_available()) else '不可用')\n",
    "print('显卡数量:',torch.cuda.device_count())\n",
    "print('是否支持BF16数字格式:','支持' if (torch.cuda.is_bf16_supported()) else '不支持不能训练sdxl')\n",
    "print('当前显卡型号:',torch.cuda.get_device_name())\n",
    "print('当前显卡的CUDA算力:',torch.cuda.get_device_capability())\n",
    "print('当前显卡的总显存:',torch.cuda.get_device_properties(0).total_memory/1024/1024/1024,'GB')\n",
    "print('是否支持TensorCore:','支持' if (torch.cuda.get_device_properties(0).major >= 7) else '不支持')\n",
    "print('当前显卡的显存使用率:',torch.cuda.memory_allocated(0)/torch.cuda.get_device_properties(0).total_memory*100,'%')"
   ]
  },
  {
   "cell_type": "code",
   "execution_count": null,
   "id": "5540d2f6-243f-43a6-8c32-03344c5a9d93",
   "metadata": {},
   "outputs": [],
   "source": [
    "# 查看剩余内存空间\n",
    "import subprocess\n",
    "# 执行命令并解析输出\n",
    "command = \"df -h /mnt/workspace\"\n",
    "result = subprocess.check_output(command, shell=True, text=True)\n",
    "data = result.split('\\n')[1].split()\n",
    "# 提取空间信息\n",
    "文件系统, 总共, 已使用, 剩余 = data[0], data[1], data[2], float(data[3][:-1])\n",
    "# 定义ANSI转义码\n",
    "BOLD, RED, RESET = \"\\033[1m\", \"\\033[31m\", \"\\033[0m\"\n",
    "# 输出信息\n",
    "print(f\"{BOLD}文件系统: {文件系统}{RESET}\")\n",
    "print(f\"{BOLD}总共空间: {总共}{RESET}\")\n",
    "print(f\"{BOLD}已使用空间: {已使用}{RESET}\")\n",
    "# 检查剩余空间并输出相应信息\n",
    "if 剩余 < 20:\n",
    "    print(f\"{BOLD}{RED}磁盘空间不足20GB，请及时处理！{RESET}\")\n",
    "else:\n",
    "    print(f\"磁盘空间充足，剩余空间为 {剩余} GB\")"
   ]
  },
  {
   "cell_type": "code",
   "execution_count": null,
   "id": "9d126df7-1206-4351-993c-a30b5030b0ee",
   "metadata": {},
   "outputs": [],
   "source": [
    "# 3.压缩输出并清空\n",
    "%cd /mnt/workspace/ComfyUI\n",
    "!zip -r output.zip output\n",
    "!mv output.zip ..\n",
    "!rm -rf output"
   ]
  },
  {
   "cell_type": "markdown",
   "id": "39ff4a71-531e-4c60-b762-6692fc36897b",
   "metadata": {
    "jp-MarkdownHeadingCollapsed": true,
    "tags": []
   },
   "source": [
    "## 一、 安装Lora-Scipts\n",
    "- 如果启动不成功，请停止后重复运行第1步。\n",
    "- 使用【秋葉aaaki】脚本库\n",
    "- 安装默认为最新版"
   ]
  },
  {
   "cell_type": "code",
   "execution_count": 1,
   "id": "29a4d5bf-b5ce-4e5e-91e4-814f142a5f49",
   "metadata": {
    "ExecutionIndicator": {
     "show": true
    },
    "execution": {
     "iopub.execute_input": "2024-04-14T14:41:59.089251Z",
     "iopub.status.busy": "2024-04-14T14:41:59.088762Z",
     "iopub.status.idle": "2024-04-14T14:46:52.143831Z",
     "shell.execute_reply": "2024-04-14T14:46:52.143264Z",
     "shell.execute_reply.started": "2024-04-14T14:41:59.089233Z"
    },
    "tags": []
   },
   "outputs": [
    {
     "name": "stderr",
     "output_type": "stream",
     "text": [
      "/usr/local/lib/python3.10/dist-packages/tqdm/auto.py:21: TqdmWarning: IProgress not found. Please update jupyter and ipywidgets. See https://ipywidgets.readthedocs.io/en/stable/user_install.html\n",
      "  from .autonotebook import tqdm as notebook_tqdm\n"
     ]
    },
    {
     "name": "stdout",
     "output_type": "stream",
     "text": [
      "运行开始\n",
      "Sun Apr 14 14:41:59 2024       \n",
      "+-----------------------------------------------------------------------------+\n",
      "| NVIDIA-SMI 470.82.01    Driver Version: 470.82.01    CUDA Version: 11.7     |\n",
      "|-------------------------------+----------------------+----------------------+\n",
      "| GPU  Name        Persistence-M| Bus-Id        Disp.A | Volatile Uncorr. ECC |\n",
      "| Fan  Temp  Perf  Pwr:Usage/Cap|         Memory-Usage | GPU-Util  Compute M. |\n",
      "|                               |                      |               MIG M. |\n",
      "|===============================+======================+======================|\n",
      "|   0  NVIDIA A10          Off  | 00000000:00:08.0 Off |                    0 |\n",
      "|  0%   26C    P8     9W / 150W |      0MiB / 22731MiB |      0%      Default |\n",
      "|                               |                      |                  N/A |\n",
      "+-------------------------------+----------------------+----------------------+\n",
      "                                                                               \n",
      "+-----------------------------------------------------------------------------+\n",
      "| Processes:                                                                  |\n",
      "|  GPU   GI   CI        PID   Type   Process name                  GPU Memory |\n",
      "|        ID   ID                                                   Usage      |\n",
      "|=============================================================================|\n",
      "|  No running processes found                                                 |\n",
      "+-----------------------------------------------------------------------------+\n",
      "/mnt/workspace\n",
      "开始安装lora-scripts\n",
      "Already on 'main'\n",
      "Your branch is up to date with 'origin/main'.\n",
      "Already up to date.\n",
      "多进程开始，请耐心等待\n",
      "开始安装lora-scripts\n",
      "/mnt/workspace/lora-scripts\n",
      "开始安装lora-scripts依赖，请耐心等待\n",
      "lora-scripts升级完毕\n",
      "文件下载完毕\n",
      "内存优化安装完毕2\n",
      "/mnt/workspace/lora-scripts\n",
      "\u001b[32m安装耗时: 4 min\u001b[0m\n"
     ]
    }
   ],
   "source": [
    "import os\n",
    "import time\n",
    "from concurrent.futures import ProcessPoolExecutor,ThreadPoolExecutor\n",
    "from huggingface_hub import HfApi, list_repo_files\n",
    "#安装目录\n",
    "path = \"/mnt/workspace\"\n",
    "#安装网址\n",
    "url2 = \"https://github.com/Akegarasu/lora-scripts\"\n",
    "repo2 = url2.split('/')[-1]\n",
    "#修改分支\n",
    "branch2 = \"main\"\n",
    "#SD模型（先换行，再加链接）\n",
    "model_urls = \"\"\"\n",
    "\"\"\"\n",
    "#unet模型（先换行，再加链接）\n",
    "unet_urls = \"\"\"\n",
    "\"\"\"\n",
    "#VAE模型（先换行，再加链接）\n",
    "VAE_urls = \"\"\"\n",
    "\"\"\"\n",
    "#lora模型（先换行，再加链接）\n",
    "lora_urls = \"\"\"\n",
    "\"\"\"\n",
    "#ControlNet模型（先换行，再加链接）\n",
    "ControlNet_urls = \"\"\"\n",
    "\"\"\"\n",
    "#扩展插件（先换行，再加链接,不要带.git）\n",
    "extension_urls = \"\"\"\n",
    "\"\"\"\n",
    "#embedding模型（先换行，再加链接）\n",
    "embedding_urls = \"\"\"\n",
    "\"\"\"\n",
    "#运动lora（先换行，再加链接）\n",
    "motion_lora_urls = \"\"\"\n",
    "\"\"\"\n",
    "#视频文件（先换行，再加链接）\n",
    "video_urls = \"\"\"\n",
    "\"\"\"\n",
    "#额外文件（先换行，再加链接）（下载到安装目录，方便剪切）\n",
    "extra_urls = \"\"\"\n",
    "\"\"\"\n",
    "#内存优化（不要修改）\n",
    "def libtcmalloc():\n",
    "    !apt-get update -qq > /dev/null 2>&1\n",
    "    !apt-get install -qq -y zip > /dev/null 2>&1\n",
    "    !apt-get install -qq -y ffmpeg > /dev/null 2>&1\n",
    "    !apt-get install -qq -y gifsicle > /dev/null 2>&1\n",
    "    !apt-get install -qq -y libimage-exiftool-perl > /dev/null 2>&1\n",
    "    !DEBIAN_FRONTEND=\"noninteractive\" apt-get install -y python3-tk > /dev/null 2>&1\n",
    "    if os.path.exists(f'{path}/temp'):\n",
    "        os.environ[\"LD_PRELOAD\"] = \"libtcmalloc.so\"\n",
    "        !rm -rf /mnt/workspace/temp\n",
    "        print('内存优化已安装1')\n",
    "    else:\n",
    "        os.chdir(f'{path}')\n",
    "        os.makedirs('temp', exist_ok=True)\n",
    "        os.chdir('temp')\n",
    "        os.system('wget -q http://launchpadlibrarian.net/367274644/libgoogle-perftools-dev_2.5-2.2ubuntu3_amd64.deb')\n",
    "        os.system('wget -q https://launchpad.net/ubuntu/+source/google-perftools/2.5-2.2ubuntu3/+build/14795286/+files/google-perftools_2.5-2.2ubuntu3_all.deb')\n",
    "        os.system('wget -q https://launchpad.net/ubuntu/+source/google-perftools/2.5-2.2ubuntu3/+build/14795286/+files/libtcmalloc-minimal4_2.5-2.2ubuntu3_amd64.deb')\n",
    "        os.system('wget -q https://launchpad.net/ubuntu/+source/google-perftools/2.5-2.2ubuntu3/+build/14795286/+files/libgoogle-perftools4_2.5-2.2ubuntu3_amd64.deb')\n",
    "        os.system('apt-get install -qq libunwind8-dev -y > /dev/null 2>&1')\n",
    "        !dpkg -i *.deb > /dev/null 2>&1\n",
    "        os.environ[\"LD_PRELOAD\"] = \"libtcmalloc.so\"\n",
    "        !rm *.deb > /dev/null 2>&1\n",
    "        !rm -rf /mnt/workspace/temp\n",
    "        print('内存优化安装完毕2')\n",
    "#安装主体（不要修改）\n",
    "def install_main():\n",
    "    print(f'开始安装{repo2}')\n",
    "    if os.path.exists(f'{path}/{repo2}'):\n",
    "        %cd {path}/{repo2}\n",
    "        print(f'开始安装{repo2}依赖，请耐心等待')\n",
    "        !pip install -r requirements.txt > /dev/null 2>&1\n",
    "        !pip install gradio-tunneling > /dev/null 2>&1\n",
    "        print(f'{repo2}升级完毕')\n",
    "#下载文件1（不要修改）\n",
    "def download_1():\n",
    "    tasks = []\n",
    "    tasks.extend(download_git(extension_urls,f'{path}/{repo2}/custom_nodes'))\n",
    "    with ThreadPoolExecutor() as executor:\n",
    "        for task in tasks:\n",
    "            executor.submit(os.system, task)\n",
    "#下载文件2（不要修改）\n",
    "def download_2():\n",
    "    tasks = []\n",
    "    tasks.extend(download_aria('https://developer.download.nvidia.com/compute/cuda/11.7.1/local_installers/cuda_11.7.1_515.65.01_linux.run',f'{path}/{repo2}'))\n",
    "    tasks.extend(download_aria('https://huggingface.co/Gluttony10/1/resolve/main/whl/torch-2.1.2%2Bcu118-cp310-cp310-linux_x86_64.whl?download=true',f'{path}/{repo2}'))\n",
    "    tasks.extend(download_aria('https://huggingface.co/Gluttony10/1/resolve/main/whl/xformers-0.0.23.post1%2Bcu118-cp310-cp310-manylinux2014_x86_64.whl?download=true',f'{path}/{repo2}'))\n",
    "    tasks.extend(download_aria('https://huggingface.co/Gluttony10/1/resolve/main/whl/torchaudio-2.1.2%2Bcu118-cp310-cp310-linux_x86_64.whl?download=true',f'{path}/{repo2}'))\n",
    "    tasks.extend(download_aria('https://huggingface.co/Gluttony10/1/resolve/main/whl/torchvision-0.16.2%2Bcu118-cp310-cp310-linux_x86_64.whl?download=true',f'{path}/{repo2}'))\n",
    "    #tasks.extend(download_aria(embedding_urls,f'{path}/{repo}/models/embeddings'))\n",
    "    #tasks.extend(download_aria(model_urls,f'{path}/{repo}/models/checkpoints'))\n",
    "    #tasks.extend(download_aria(unet_urls,f'{path}/{repo}/models/unet'))\n",
    "    #tasks.extend(download_aria(VAE_urls,f'{path}/{repo}/models/vae'))\n",
    "    #tasks.extend(download_aria(lora_urls,f'{path}/{repo}/models/loras'))\n",
    "    #tasks.extend(download_aria(ControlNet_urls,f'{path}/{repo}/models/controlnet'))\n",
    "    #tasks.extend(download_aria(video_urls,f'{path}/{repo}/input/video'))\n",
    "    #if os.path.exists(f'{path}/{repo}/custom_nodes/comfyui-animatediff'):\n",
    "        #tasks.extend(download_aria('https://huggingface.co/guoyww/animatediff/resolve/main/v3_sd15_mm.ckpt?download=true',f'{path}/{repo}/custom_nodes/comfyui-animatediff/models'))\n",
    "        #tasks.extend(download_aria(motion_lora_urls,f'{path}/{repo}/custom_nodes/comfyui-animatediff/loras'))\n",
    "    #if os.path.exists(f'{path}/{repo}/custom_nodes/ComfyUI-AnimateDiff-Evolved'):\n",
    "        #tasks.extend(download_aria('https://huggingface.co/guoyww/animatediff/resolve/main/v3_sd15_mm.ckpt?download=true',f'{path}/{repo}/custom_nodes/ComfyUI-AnimateDiff-Evolved/models'))\n",
    "        #tasks.extend(download_aria(motion_lora_urls,f'{path}/{repo}/custom_nodes/ComfyUI-AnimateDiff-Evolved/motion_lora'))\n",
    "    tasks.extend(download_aria('https://download.pytorch.org/models/mobilenet_v2-b0353104.pth','/root/.cache/torch/hub/checkpoints'))\n",
    "    tasks.extend(download_aria('https://download.pytorch.org/models/efficientnet_v2_s-dd5fe13b.pth','/root/.cache/torch/hub/checkpoints'))\n",
    "    #tasks.extend(download_hf('CIDAS/clipseg-rd64-refined',f'{path}/{repo}/models/clipseg'))\n",
    "    #tasks.extend(download_aria('https://github.com/enesmsahin/simple-lama-inpainting/releases/download/v0.1.0/big-lama.pt',f'{path}/{repo}/models/lama'))\n",
    "    #tasks.extend(download_hf('Salesforce/blip-image-captioning-base',f'{path}/{repo}/models/clip_interrogator/Salesforce/blip-image-captioning-base'))\n",
    "    #tasks.extend(download_hf('succinctly/text2image-prompt-generator',f'{path}/{repo}/models/prompt_generator/text2image-prompt-generator'))\n",
    "    #tasks.extend(download_hf('Helsinki-NLP/opus-mt-zh-en',f'{path}/{repo}/models/prompt_generator/opus-mt-zh-en'))\n",
    "    tasks.extend(download_aria(extra_urls,f'{path}'))\n",
    "    with ThreadPoolExecutor() as executor:\n",
    "        for task in tasks:\n",
    "            executor.submit(os.system, task)\n",
    "    print('文件下载完毕')\n",
    "#下载git库（不要修改）\n",
    "def download_git(links,folder):\n",
    "    tasks = []\n",
    "    link = links.strip().split(\"\\n\")\n",
    "    for li in link:\n",
    "        tasks.append(f'git -C {folder} clone {li} --recursive > /dev/null 2>&1')\n",
    "    for li in link:\n",
    "        name = li.split('/')[-1]\n",
    "        tasks.append(f'git -C {folder}/{name} pull > /dev/null 2>&1')\n",
    "    for li in link:\n",
    "        name = li.split('/')[-1]\n",
    "        tasks.append(f'git -C {folder}/{name} submodule init > /dev/null 2>&1')\n",
    "    for li in link:\n",
    "        name = li.split('/')[-1]\n",
    "        tasks.append(f'git -C {folder}/{name} submodule update > /dev/null 2>&1')\n",
    "    for li in link:\n",
    "        name = li.split('/')[-1]\n",
    "        tasks.append(f'git -C {folder}/{name} fetch > /dev/null 2>&1')\n",
    "    return tasks\n",
    "#下载模块（不要修改）\n",
    "def download_aria(links,folder):\n",
    "    tasks = []\n",
    "    link = links.strip().split(\"\\n\")\n",
    "    for li in link:\n",
    "        if \"?download=true\" in li:\n",
    "            li = li.replace(\"?download=true\",\"\")\n",
    "        if \"https://mirror.ghproxy.com/https://github.com\" in li:\n",
    "            li=li.replace(\"https://mirror.ghproxy.com/https://github.com\",\"https://mirror.ghproxy.com/https://github.com\")\n",
    "        elif \"https://github.com\" in li:\n",
    "            li=li.replace(\"https://github.com\",\"https://mirror.ghproxy.com/https://github.com\")\n",
    "        elif \"huggingface.co\" in li:\n",
    "            li=li.replace(\"huggingface.co\",\"hf-mirror.com\")\n",
    "        elif \"civitai.com\" in li:\n",
    "            li=li.replace(\"civitai.com\",\"civitai.sukaka.top\")\n",
    "        fi = li.split('/')[-1]\n",
    "        if \".\" in fi:\n",
    "            tasks.append(f'aria2c --console-log-level=error -c -x 16 -s 16 -k 1M -t 10 -d {folder} -o {fi} \"{li}\" > /dev/null 2>&1')\n",
    "        else:\n",
    "            tasks.append(f'aria2c --console-log-level=error -c -x 16 -s 16 -k 1M -t 10 -d {folder} \"{li}\" > /dev/null 2>&1')\n",
    "    return tasks\n",
    "#下载抱脸库（不要修改）\n",
    "\n",
    "#主进程（不要修改）\n",
    "def main():\n",
    "    time_start = time.time()\n",
    "    #!git config --global url.\"https://mirror.ghproxy.com/https://github.com\".insteadOf \"https://github.com\"\n",
    "    #!git config --global url.\"https://mirror.ghproxy.com/https://raw.githubusercontent.com\".insteadOf \"https://raw.githubusercontent.com\"\n",
    "    print(\"运行开始\")\n",
    "    #!df -hl #查看磁盘\n",
    "    !nvidia-smi #查看显卡\n",
    "    %cd {path}\n",
    "    #if reinstall:\n",
    "       # print('旧文件删除中')\n",
    "       # !rm -rf {path}/{repo}\n",
    "    print(f'开始安装{repo2}')\n",
    "    !git config --global http.postBuffer 2000003072\n",
    "    #!mkdir -p {path}/{repo}/\n",
    "    #!git -C {path} clone {url} --recursive > /dev/null 2>&1\n",
    "    !git -C {path} clone {url2} --recursive > /dev/null 2>&1\n",
    "    #if os.path.exists(f'{path}/{repo}'):\n",
    "        #!mkdir -p {path}/{repo}/repositories > /dev/null 2>&1\n",
    "        #!git -C {path}/{repo} checkout {branch}\n",
    "        #!git -C {path}/{repo} pull\n",
    "        #!git -C {path}/{repo} submodule init > /dev/null 2>&1\n",
    "        #!git -C {path}/{repo} submodule update > /dev/null 2>&1\n",
    "    if os.path.exists(f'{path}/{repo2}'):\n",
    "        !mkdir -p {path}/{repo2}/repositories > /dev/null 2>&1\n",
    "        !git -C {path}/{repo2} checkout {branch2}\n",
    "        !git -C {path}/{repo2} pull\n",
    "        !git -C {path}/{repo2} submodule init > /dev/null 2>&1\n",
    "        !git -C {path}/{repo2} submodule update > /dev/null 2>&1\n",
    "        print(\"多进程开始，请耐心等待\")\n",
    "        with ProcessPoolExecutor() as executor:\n",
    "            futures = []\n",
    "            for func in [download_1,download_2,install_main,libtcmalloc]:\n",
    "                futures.append(executor.submit(func))\n",
    "                time.sleep(10)\n",
    "            for future in futures:\n",
    "                future.result()\n",
    "        %cd {path}/{repo2}\n",
    "        !pip install torch-2.1.2%2Bcu118-cp310-cp310-linux_x86_64.whl > /dev/null 2>&1\n",
    "        !pip install torchaudio-2.1.2%2Bcu118-cp310-cp310-linux_x86_64.whl > /dev/null 2>&1\n",
    "        !pip install torchvision-0.16.2%2Bcu118-cp310-cp310-linux_x86_64.whl > /dev/null 2>&1\n",
    "        !pip install xformers-0.0.23.post1%2Bcu118-cp310-cp310-manylinux2014_x86_64.whl > /dev/null 2>&1\n",
    "        !sh cuda_11.7.1_515.65.01_linux.run --toolkit --silent\n",
    "        time_end = time.time()\n",
    "        print('\\033[32m安装耗时:',int((time_end - time_start)/60),'min\\033[0m')\n",
    "        #%cd {path}/{repo}\n",
    "        #!HF_ENDPOINT=https://hf-mirror.com python main.py --use-pytorch-cross-attention\n",
    "    else:\n",
    "        print('安装失败请重试')\n",
    "\n",
    "check = False\n",
    "if __name__ == '__main__':\n",
    "    main()"
   ]
  },
  {
   "cell_type": "markdown",
   "id": "eac29602-2486-4e35-8d1b-97cba859cacb",
   "metadata": {
    "jp-MarkdownHeadingCollapsed": true,
    "tags": []
   },
   "source": [
    "## 二、安装webui"
   ]
  },
  {
   "cell_type": "markdown",
   "id": "59f34348-d58f-4c62-97ce-8b4de12d573a",
   "metadata": {
    "jp-MarkdownHeadingCollapsed": true,
    "tags": []
   },
   "source": [
    "#### 1. 拉取本体"
   ]
  },
  {
   "cell_type": "code",
   "execution_count": 2,
   "id": "320b4386-ed35-4b0c-aa7a-c91a43a59b40",
   "metadata": {
    "execution": {
     "iopub.execute_input": "2024-04-14T14:50:15.326334Z",
     "iopub.status.busy": "2024-04-14T14:50:15.326021Z",
     "iopub.status.idle": "2024-04-14T14:50:37.881644Z",
     "shell.execute_reply": "2024-04-14T14:50:37.881034Z",
     "shell.execute_reply.started": "2024-04-14T14:50:15.326315Z"
    },
    "scrolled": true,
    "tags": []
   },
   "outputs": [
    {
     "name": "stdout",
     "output_type": "stream",
     "text": [
      "/mnt/workspace\n",
      "Cloning into 'stable-diffusion-webui'...\n",
      "warning: redirecting to https://gitcode.net/overbill1683/stable-diffusion-webui.git/\n",
      "remote: Enumerating objects: 409, done.\u001b[K\n",
      "remote: Counting objects: 100% (409/409), done.\u001b[K\n",
      "remote: Compressing objects: 100% (212/212), done.\u001b[K\n",
      "remote: Total 32887 (delta 248), reused 339 (delta 193), pack-reused 32478\u001b[K\n",
      "Receiving objects: 100% (32887/32887), 31.66 MiB | 49.58 MiB/s, done.\n",
      "Resolving deltas: 100% (23700/23700), done.\n",
      "/mnt/workspace/stable-diffusion-webui\n",
      "/mnt/workspace/stable-diffusion-webui/repositories\n",
      "Cloning into 'stable-diffusion-stability-ai'...\n",
      "warning: redirecting to https://gitcode.net/overbill1683/stablediffusion.git/\n",
      "remote: Enumerating objects: 574, done.\u001b[K\n",
      "remote: Counting objects: 100% (574/574), done.\u001b[K\n",
      "remote: Compressing objects: 100% (287/287), done.\u001b[K\n",
      "remote: Total 574 (delta 266), reused 574 (delta 266), pack-reused 0\u001b[K\n",
      "Receiving objects: 100% (574/574), 73.48 MiB | 91.09 MiB/s, done.\n",
      "Resolving deltas: 100% (266/266), done.\n",
      "Cloning into 'taming-transformers'...\n",
      "warning: redirecting to https://gitcode.net/overbill1683/taming-transformers.git/\n",
      "remote: Enumerating objects: 1342, done.\u001b[K\n",
      "remote: Counting objects: 100% (1342/1342), done.\u001b[K\n",
      "remote: Compressing objects: 100% (1045/1045), done.\u001b[K\n",
      "remote: Total 1342 (delta 281), reused 1338 (delta 279), pack-reused 0\u001b[K\n",
      "Receiving objects: 100% (1342/1342), 409.77 MiB | 28.88 MiB/s, done.\n",
      "Resolving deltas: 100% (281/281), done.\n",
      "Cloning into 'k-diffusion'...\n",
      "warning: redirecting to https://gitcode.net/overbill1683/k-diffusion.git/\n",
      "remote: Enumerating objects: 164, done.\u001b[K\n",
      "remote: Counting objects: 100% (164/164), done.\u001b[K\n",
      "remote: Compressing objects: 100% (70/70), done.\u001b[K\n",
      "remote: Total 1340 (delta 112), reused 138 (delta 94), pack-reused 1176\u001b[K\n",
      "Receiving objects: 100% (1340/1340), 258.62 KiB | 2.49 MiB/s, done.\n",
      "Resolving deltas: 100% (929/929), done.\n",
      "Cloning into 'CodeFormer'...\n",
      "warning: redirecting to https://gitcode.net/overbill1683/CodeFormer.git/\n",
      "remote: Enumerating objects: 594, done.\u001b[K\n",
      "remote: Counting objects: 100% (594/594), done.\u001b[K\n",
      "remote: Compressing objects: 100% (357/357), done.\u001b[K\n",
      "remote: Total 594 (delta 290), reused 466 (delta 228), pack-reused 0\u001b[K\n",
      "Receiving objects: 100% (594/594), 17.30 MiB | 54.85 MiB/s, done.\n",
      "Resolving deltas: 100% (290/290), done.\n",
      "Cloning into 'BLIP'...\n",
      "warning: redirecting to https://gitcode.net/overbill1683/BLIP.git/\n",
      "remote: Enumerating objects: 277, done.\u001b[K\n",
      "remote: Counting objects: 100% (277/277), done.\u001b[K\n",
      "remote: Compressing objects: 100% (124/124), done.\u001b[K\n",
      "remote: Total 277 (delta 151), reused 273 (delta 150), pack-reused 0\u001b[K\n",
      "Receiving objects: 100% (277/277), 7.16 MiB | 47.29 MiB/s, done.\n",
      "Resolving deltas: 100% (151/151), done.\n",
      "/mnt/workspace/stable-diffusion-webui\n",
      "--2024-04-14 22:50:37--  https://gitcode.net/Akegarasu/sd-webui-configs/-/raw/master/config.json\n",
      "Resolving gitcode.net (gitcode.net)... 119.3.229.170\n",
      "Connecting to gitcode.net (gitcode.net)|119.3.229.170|:443... connected.\n",
      "HTTP request sent, awaiting response... 200 OK\n",
      "Length: 9427 (9.2K) [text/plain]\n",
      "Saving to: ‘config.json’\n",
      "\n",
      "config.json         100%[===================>]   9.21K  --.-KB/s    in 0s      \n",
      "\n",
      "2024-04-14 22:50:37 (246 MB/s) - ‘config.json’ saved [9427/9427]\n",
      "\n"
     ]
    }
   ],
   "source": [
    "# 拉取webui本体\n",
    "!rm -rf /mnt/workspace/stable-diffusion-webui/\n",
    "%cd  /mnt/workspace/\n",
    "!git clone https://gitcode.net/overbill1683/stable-diffusion-webui\n",
    "%cd stable-diffusion-webui\n",
    "!mkdir repositories\n",
    "%cd repositories\n",
    "!git clone \"https://gitcode.net/overbill1683/stablediffusion\" \"stable-diffusion-stability-ai\"\n",
    "!git clone \"https://gitcode.net/overbill1683/taming-transformers\" \"taming-transformers\"\n",
    "!git clone \"https://gitcode.net/overbill1683/k-diffusion\" \"k-diffusion\"\n",
    "!git clone \"https://gitcode.net/overbill1683/CodeFormer\" \"CodeFormer\"\n",
    "!git clone \"https://gitcode.net/overbill1683/BLIP\" \"BLIP\"\n",
    "\n",
    "%cd /mnt/workspace/stable-diffusion-webui\n",
    "!wget -O \"config.json\" \"https://gitcode.net/Akegarasu/sd-webui-configs/-/raw/master/config.json\""
   ]
  },
  {
   "cell_type": "markdown",
   "id": "992e1e77-bcb9-4bc0-84fd-03c7b90eb688",
   "metadata": {
    "jp-MarkdownHeadingCollapsed": true,
    "tags": []
   },
   "source": [
    "#### 2. 安装插件"
   ]
  },
  {
   "cell_type": "code",
   "execution_count": 3,
   "id": "95b1a311-915e-42ce-bb1b-54180cc5e00e",
   "metadata": {
    "execution": {
     "iopub.execute_input": "2024-04-14T14:54:02.225805Z",
     "iopub.status.busy": "2024-04-14T14:54:02.225477Z",
     "iopub.status.idle": "2024-04-14T14:54:08.276535Z",
     "shell.execute_reply": "2024-04-14T14:54:08.275978Z",
     "shell.execute_reply.started": "2024-04-14T14:54:02.225787Z"
    },
    "scrolled": true,
    "tags": []
   },
   "outputs": [
    {
     "name": "stdout",
     "output_type": "stream",
     "text": [
      "/mnt/workspace/stable-diffusion-webui\n",
      "Cloning into 'a1111-sd-webui-tagcomplete'...\n",
      "warning: redirecting to https://gitcode.net/ranting8323/a1111-sd-webui-tagcomplete.git/\n",
      "remote: Enumerating objects: 224, done.\u001b[K\n",
      "remote: Counting objects: 100% (224/224), done.\u001b[K\n",
      "remote: Compressing objects: 100% (153/153), done.\u001b[K\n",
      "remote: Total 2281 (delta 151), reused 109 (delta 71), pack-reused 2057\u001b[K\n",
      "Receiving objects: 100% (2281/2281), 6.72 MiB | 10.94 MiB/s, done.\n",
      "Resolving deltas: 100% (1459/1459), done.\n",
      "Cloning into 'stable-diffusion-webui-localization-zh_Hans'...\n",
      "warning: redirecting to https://gitcode.net/overbill1683/stable-diffusion-webui-localization-zh_Hans.git/\n",
      "remote: Enumerating objects: 180, done.\u001b[K\n",
      "remote: Counting objects: 100% (180/180), done.\u001b[K\n",
      "remote: Compressing objects: 100% (57/57), done.\u001b[K\n",
      "remote: Total 3237 (delta 131), reused 172 (delta 123), pack-reused 3057\u001b[K\n",
      "Receiving objects: 100% (3237/3237), 2.06 MiB | 5.51 MiB/s, done.\n",
      "Resolving deltas: 100% (2140/2140), done.\n",
      "Cloning into 'sd-webui-additional-networks'...\n",
      "warning: redirecting to https://gitcode.net/ranting8323/sd-webui-additional-networks.git/\n",
      "remote: Enumerating objects: 809, done.\u001b[K\n",
      "remote: Counting objects: 100% (809/809), done.\u001b[K\n",
      "remote: Compressing objects: 100% (371/371), done.\u001b[K\n",
      "remote: Total 809 (delta 457), reused 773 (delta 430), pack-reused 0\u001b[K\n",
      "Receiving objects: 100% (809/809), 246.06 KiB | 2.02 MiB/s, done.\n",
      "Resolving deltas: 100% (457/457), done.\n",
      "Cloning into 'sd-webui-infinite-image-browsing'...\n",
      "warning: redirecting to https://gitcode.net/ranting8323/sd-webui-infinite-image-browsing.git/\n",
      "remote: Enumerating objects: 337, done.\u001b[K\n",
      "remote: Counting objects: 100% (337/337), done.\u001b[K\n",
      "remote: Compressing objects: 100% (197/197), done.\u001b[K\n",
      "remote: Total 9546 (delta 151), reused 304 (delta 130), pack-reused 9209\u001b[K\n",
      "Receiving objects: 100% (9546/9546), 42.96 MiB | 29.76 MiB/s, done.\n",
      "Resolving deltas: 100% (5486/5486), done.\n",
      "Cloning into 'stable-diffusion-webui-wd14-tagger'...\n",
      "warning: redirecting to https://gitcode.net/ranting8323/stable-diffusion-webui-wd14-tagger.git/\n",
      "remote: Enumerating objects: 369, done.\u001b[K\n",
      "remote: Counting objects: 100% (369/369), done.\u001b[K\n",
      "remote: Compressing objects: 100% (148/148), done.\u001b[K\n",
      "remote: Total 369 (delta 199), reused 339 (delta 179), pack-reused 0\u001b[K\n",
      "Receiving objects: 100% (369/369), 1.08 MiB | 17.80 MiB/s, done.\n",
      "Resolving deltas: 100% (199/199), done.\n"
     ]
    }
   ],
   "source": [
    "## 安装常用插件，填写github链接，一行一个\n",
    "extension_urls = \"\"\"\n",
    "https://gitcode.net/ranting8323/a1111-sd-webui-tagcomplete\n",
    "https://gitcode.net/overbill1683/stable-diffusion-webui-localization-zh_Hans\n",
    "https://gitcode.net/ranting8323/sd-webui-additional-networks\n",
    "https://gitcode.net/ranting8323/sd-webui-infinite-image-browsing\n",
    "https://gitcode.net/ranting8323/stable-diffusion-webui-wd14-tagger\n",
    "\"\"\"\n",
    "\n",
    "extensions = extension_urls.strip().split(\"\\n\")\n",
    "\n",
    "%cd /mnt/workspace/stable-diffusion-webui\n",
    "for e in extensions:\n",
    "    !git -C \"extensions\" clone {e}"
   ]
  },
  {
   "cell_type": "markdown",
   "id": "3fc4d6d6-3a5c-4981-a778-582380f5cc1a",
   "metadata": {
    "jp-MarkdownHeadingCollapsed": true,
    "tags": []
   },
   "source": [
    "#### 3. 下载模型"
   ]
  },
  {
   "cell_type": "code",
   "execution_count": 5,
   "id": "e00652d9-7c6e-4399-ac9a-2afb7cca31c1",
   "metadata": {
    "execution": {
     "iopub.execute_input": "2024-04-14T15:01:25.017834Z",
     "iopub.status.busy": "2024-04-14T15:01:25.017517Z",
     "iopub.status.idle": "2024-04-14T15:01:27.014611Z",
     "shell.execute_reply": "2024-04-14T15:01:27.014056Z",
     "shell.execute_reply.started": "2024-04-14T15:01:25.017816Z"
    },
    "scrolled": true,
    "tags": []
   },
   "outputs": [
    {
     "name": "stdout",
     "output_type": "stream",
     "text": [
      "\u001b[35m[\u001b[0m#bd9fb2 3.9GiB/3.9GiB\u001b[36m(99%)\u001b[0m CN:4 DL:\u001b[32m165MiB\u001b[0m\u001b[35m]\u001b[0m\u001b[0m\n",
      "Download Results:\n",
      "gid   |stat|avg speed  |path/URI\n",
      "======+====+===========+=======================================================\n",
      "bd9fb2|\u001b[1;32mOK\u001b[0m  |   129MiB/s|/mnt/workspace/stable-diffusion-webui/models/Stable-diffusion/chilloutmix_NiPrunedFp32Fix.safetensors\n",
      "\n",
      "Status Legend:\n",
      "(OK):download completed.\n"
     ]
    }
   ],
   "source": [
    "#直链下载\n",
    "def aria2(url, filename, d):\n",
    "    !aria2c --console-log-level=error -c -x 16 -s 16 {url} -o {filename} -d {d}\n",
    "\n",
    "model_url = '\"https://liblibai-online.vibrou.com/models/e7e55f800035004cf0ee31d91f874a415a2b64a4.safetensors?attname=%E7%9C%9F%E5%AE%9E%E6%84%9F%E5%BF%85%E5%A4%87%E6%A8%A1%E5%9E%8B%EF%BD%9CChilloutMix_Chilloutmix-Ni-pruned-fp32-fix.safetensors\"'\n",
    "aria2(model_url, \"chilloutmix_NiPrunedFp32Fix.safetensors\", \"/mnt/workspace/stable-diffusion-webui/models/Stable-diffusion\")"
   ]
  },
  {
   "cell_type": "code",
   "execution_count": null,
   "id": "4411c2fd-a8ac-4b2c-ae1b-cfc05dd4fa43",
   "metadata": {},
   "outputs": [],
   "source": [
    "#复制oss内的模型\n",
    "原始名称 = \"models/chilloutmix_Ni.safetensors\" #可包含父路径，最前不用加/\n",
    "标准名称=\"model.safetensors\" #双引号内填模型命名及后缀\n",
    "!cp /mnt/data/\"{原始名称}\" /mnt/workspace/lora-scripts/sd-models/\"{标准名称}\" && echo 复制成功"
   ]
  },
  {
   "cell_type": "markdown",
   "id": "bfee250c-64d5-4514-b5fb-dda47d405165",
   "metadata": {},
   "source": [
    "#### 4. 下载 VAE"
   ]
  },
  {
   "cell_type": "code",
   "execution_count": 6,
   "id": "443babbe-3715-4641-a87c-26a739dc8418",
   "metadata": {
    "execution": {
     "iopub.execute_input": "2024-04-14T15:01:37.633555Z",
     "iopub.status.busy": "2024-04-14T15:01:37.633227Z",
     "iopub.status.idle": "2024-04-14T15:01:43.687071Z",
     "shell.execute_reply": "2024-04-14T15:01:43.686516Z",
     "shell.execute_reply.started": "2024-04-14T15:01:37.633536Z"
    },
    "tags": []
   },
   "outputs": [
    {
     "name": "stdout",
     "output_type": "stream",
     "text": [
      "\u001b[35m[\u001b[0m#680891 658MiB/784MiB\u001b[36m(83%)\u001b[0m CN:13 DL:\u001b[32m445MiB\u001b[0m\u001b[35m]\u001b[0m\u001b[0m\u001b[35m]\u001b[0m\u001b[0m\n",
      "Download Results:\n",
      "gid   |stat|avg speed  |path/URI\n",
      "======+====+===========+=======================================================\n",
      "680891|\u001b[1;32mOK\u001b[0m  |   432MiB/s|/mnt/workspace/stable-diffusion-webui/models/VAE/animevae.pt\n",
      "\n",
      "Status Legend:\n",
      "(OK):download completed.\n"
     ]
    }
   ],
   "source": [
    "VAE_URL = '\"https://modelscope.cn/api/v1/models/dienstag/anything-v4.0/repo?Revision=master&FilePath=anything-v4.0.vae.pt\"'\n",
    "aria2(VAE_URL, \"animevae.pt\", \"/mnt/workspace/stable-diffusion-webui/models/VAE\")"
   ]
  },
  {
   "cell_type": "markdown",
   "id": "2cd19294-2df9-466c-807b-5af34bcee4cf",
   "metadata": {},
   "source": [
    "#### 5. 下载文件（样例）"
   ]
  },
  {
   "cell_type": "code",
   "execution_count": null,
   "id": "bc841445-76b1-4bcd-84dc-886495ee84fc",
   "metadata": {},
   "outputs": [],
   "source": [
    "# 这部分是可选的！！！！！有需要再执行！！！！！！！ 修改对应文本，运行即可下载文件\n",
    "def aria2(url, filename, d):\n",
    "    !aria2c --console-log-level=error -c -x 16 -s 16 {url} -o {filename} -d {d}\n",
    "\n",
    "DOWNLOAD_URL = \"文件链接\" # 文件链接，需要下载的url直链才可以\n",
    "FILE_NAME = \"aki\" # 下载保存的文件名\n",
    "SAVE_DIR = \"/mnt/workspace\" # 文件保存的路径\n",
    "aria2(DOWNLOAD_URL, FILE_NAME, SAVE_DIR)"
   ]
  },
  {
   "cell_type": "markdown",
   "id": "c6b91811",
   "metadata": {},
   "source": [
    "## 三、 启动WebUI"
   ]
  },
  {
   "cell_type": "code",
   "execution_count": null,
   "id": "d72e22d0-1956-4023-a3dd-8de674d107d2",
   "metadata": {
    "execution": {
     "iopub.execute_input": "2024-04-14T15:10:14.775293Z",
     "iopub.status.busy": "2024-04-14T15:10:14.774983Z"
    },
    "tags": []
   },
   "outputs": [
    {
     "name": "stdout",
     "output_type": "stream",
     "text": [
      "/mnt/workspace/stable-diffusion-webui\n",
      "Python 3.10.12 (main, Jun 11 2023, 05:26:28) [GCC 11.4.0]\n",
      "Version: v1.9.0\n",
      "Commit hash: adadb4e3c7382bf3e4f7519126cd6c70f4f8557b\n",
      "Cloning Stable Diffusion XL into /mnt/workspace/stable-diffusion-webui/repositories/generative-models...\n",
      "Cloning into '/mnt/workspace/stable-diffusion-webui/repositories/generative-models'...\n",
      "remote: Enumerating objects: 941, done.\u001b[K\n",
      "Receiving objects:  14% (135/941), 1.65 MiB | 102.00 KiB/s  \r"
     ]
    }
   ],
   "source": [
    "import os\n",
    "package_envs  = [\n",
    "      {\n",
    "        \"env\": \"GFPGAN_PACKAGE\",\n",
    "        \"url\": \"git+https://gitcode.net/overbill1683/GFPGAN.git@8d2447a2d918f8eba5a4a01463fd48e45126a379\"\n",
    "      },\n",
    "      {\n",
    "        \"env\": \"CLIP_PACKAGE\",\n",
    "        \"url\": \"git+https://gitcode.net/overbill1683/CLIP.git@d50d76daa670286dd6cacf3bcd80b5e4823fc8e1\"\n",
    "      },\n",
    "      {\n",
    "        \"env\": \"OPENCLIP_PACKAGE\",\n",
    "        \"url\": \"git+https://gitcode.net/overbill1683/open_clip.git@bb6e834e9c70d9c27d0dc3ecedeebeaeb1ffad6b\"\n",
    "      }\n",
    "]\n",
    "#cuda_path = \"/usr/local/cuda-11.7/targets/x86_64-linux/lib\"\n",
    "#ld_library_path = os.environ.get(\"LD_LIBRARY_PATH\")\n",
    "#ld_library_path = f\"{ld_library_path}:{cuda_path}\"\n",
    "#os.environ[\"LD_LIBRARY_PATH\"] = ld_library_path\n",
    "os.environ[\"PIP_INDEX_URL\"] = \"https://mirror.baidu.com/pypi/simple\"\n",
    "for i in package_envs:\n",
    "    os.environ[i[\"env\"]] = i[\"url\"]\n",
    "\n",
    "%cd /mnt/workspace/stable-diffusion-webui\n",
    "!python launch.py --no-download-sd-model --xformers --share --listen --enable-insecure-extension-access"
   ]
  },
  {
   "cell_type": "markdown",
   "id": "80f19058",
   "metadata": {},
   "source": [
    "### 四、 启动Lora\n",
    "- 停止后再顺序运行"
   ]
  },
  {
   "cell_type": "code",
   "execution_count": null,
   "id": "a9389a28",
   "metadata": {
    "ExecutionIndicator": {
     "show": true
    },
    "tags": []
   },
   "outputs": [],
   "source": [
    "#每次启动实例只运行一次 等待出现gradio网址后，再运行下一步\n",
    "import threading\n",
    "def start_gradio():\n",
    "    !gradio-tunneling --port 28000\n",
    "background_thread = threading.Thread(target=start_gradio)\n",
    "background_thread.daemon = True\n",
    "background_thread.start()"
   ]
  },
  {
   "cell_type": "code",
   "execution_count": null,
   "id": "169e496f",
   "metadata": {
    "ExecutionIndicator": {
     "show": true
    },
    "tags": []
   },
   "outputs": [],
   "source": [
    "import os\n",
    "cuda_path = \"/usr/local/cuda-11.7/targets/x86_64-linux/lib\"\n",
    "ld_library_path = os.environ.get(\"LD_LIBRARY_PATH\")\n",
    "ld_library_path = f\"{ld_library_path}:{cuda_path}\"\n",
    "os.environ[\"LD_LIBRARY_PATH\"] = ld_library_path\n",
    "%cd /mnt/workspace/lora-scripts\n",
    "!pip uninstall tb-nightly tensorboard tensorflow tensorflow-estimator tf-estimator-nightly tf-nightly -y > /dev/null 2>&1\n",
    "!pip install -r requirements.txt > /dev/null 2>&1\n",
    "!HF_ENDPOINT=https://hf-mirror.com python gui.py"
   ]
  }
 ],
 "metadata": {
  "kernelspec": {
   "display_name": "Python 3 (ipykernel)",
   "language": "python",
   "name": "python3"
  },
  "language_info": {
   "codemirror_mode": {
    "name": "ipython",
    "version": 3
   },
   "file_extension": ".py",
   "mimetype": "text/x-python",
   "name": "python",
   "nbconvert_exporter": "python",
   "pygments_lexer": "ipython3",
   "version": "3.10.12"
  }
 },
 "nbformat": 4,
 "nbformat_minor": 5
}
